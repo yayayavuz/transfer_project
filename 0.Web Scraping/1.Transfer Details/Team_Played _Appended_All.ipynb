{
 "cells": [
  {
   "cell_type": "code",
   "execution_count": 3,
   "metadata": {
    "ExecuteTime": {
     "end_time": "2020-11-15T18:05:37.169713Z",
     "start_time": "2020-11-15T18:05:36.342653Z"
    }
   },
   "outputs": [],
   "source": [
    "import pandas as pd\n",
    "import requests, bs4,re\n",
    "import numpy as np\n",
    "from datetime import timedelta, date\n",
    "import datetime\n",
    "pd.set_option('float_format', '{:f}'.format)\n",
    "pd.set_option('display.max_columns', None)\n",
    "pd.options.display.max_colwidth = 100"
   ]
  },
  {
   "cell_type": "code",
   "execution_count": 4,
   "metadata": {
    "ExecuteTime": {
     "end_time": "2020-11-15T18:05:38.173694Z",
     "start_time": "2020-11-15T18:05:38.075789Z"
    }
   },
   "outputs": [],
   "source": [
    "df= pd.read_pickle(\"C:/Users/YAVUZ/Transfer Fee Project/Transfer Details/Team_played_0_500.pkl\")\n",
    "df1= pd.read_pickle(\"C:/Users/YAVUZ/Transfer Fee Project/Transfer Details/Team_played_500_1000.pkl\")\n",
    "df2= pd.read_pickle(\"C:/Users/YAVUZ/Transfer Fee Project/Transfer Details/Team_played_1000_1500.pkl\")\n",
    "df3= pd.read_pickle(\"C:/Users/YAVUZ/Transfer Fee Project/Transfer Details/Team_played_1500_2000.pkl\")\n",
    "df4= pd.read_pickle(\"C:/Users/YAVUZ/Transfer Fee Project/Transfer Details/Team_played_2000_2500.pkl\")\n",
    "df5= pd.read_pickle(\"C:/Users/YAVUZ/Transfer Fee Project/Transfer Details/Team_played_2500_3000.pkl\")\n",
    "\n",
    "\n",
    "df6= pd.read_pickle(\"C:/Users/YAVUZ/Transfer Fee Project/Transfer Details/Team_played_3000_3500.pkl\")\n",
    "df7= pd.read_pickle(\"C:/Users/YAVUZ/Transfer Fee Project/Transfer Details/Team_played_3500_4000.pkl\")\n",
    "\n",
    "\n",
    "df8= pd.read_pickle(\"C:/Users/YAVUZ/Transfer Fee Project/Transfer Details/Team_played_4000_4500.pkl\")\n",
    "df9= pd.read_pickle(\"C:/Users/YAVUZ/Transfer Fee Project/Transfer Details/Team_played_4500_5000.pkl\")\n",
    "\n",
    "\n",
    "df10= pd.read_pickle(\"C:/Users/YAVUZ/Transfer Fee Project/Transfer Details/Team_played_5000_5500.pkl\")\n",
    "df11= pd.read_pickle(\"C:/Users/YAVUZ/Transfer Fee Project/Transfer Details/Team_played_5500_6000.pkl\")\n",
    "\n",
    "\n",
    "df12= pd.read_pickle(\"C:/Users/YAVUZ/Transfer Fee Project/Transfer Details/Team_played_6000_6500.pkl\")\n",
    "df13= pd.read_pickle(\"C:/Users/YAVUZ/Transfer Fee Project/Transfer Details/Team_played_6500_7000.pkl\")\n",
    "\n",
    "\n",
    "df14= pd.read_pickle(\"C:/Users/YAVUZ/Transfer Fee Project/Transfer Details/Team_played_7000_7500.pkl\")\n",
    "df15= pd.read_pickle(\"C:/Users/YAVUZ/Transfer Fee Project/Transfer Details/Team_played_7500_8000.pkl\")\n",
    "\n",
    "\n",
    "df16= pd.read_pickle(\"C:/Users/YAVUZ/Transfer Fee Project/Transfer Details/Team_played_8000_8500.pkl\")\n",
    "df17= pd.read_pickle(\"C:/Users/YAVUZ/Transfer Fee Project/Transfer Details/Team_played_8500_9000.pkl\")\n",
    "\n",
    "df18= pd.read_pickle(\"C:/Users/YAVUZ/Transfer Fee Project/Transfer Details/Team_played_9000_9499.pkl\")\n",
    "\n"
   ]
  },
  {
   "cell_type": "code",
   "execution_count": 5,
   "metadata": {
    "ExecuteTime": {
     "end_time": "2020-11-15T18:06:36.231984Z",
     "start_time": "2020-11-15T18:06:36.178828Z"
    }
   },
   "outputs": [],
   "source": [
    "frames = [df,df1,df2,df3,df4,df5,df6,df7,df8,df9,df10,df11,df12,df13,df14,df15,df16,df17,df18]\n",
    "\n",
    "df_all = pd.concat(frames,sort=False)\n",
    "df_all.reset_index(drop=True, inplace=True)"
   ]
  },
  {
   "cell_type": "code",
   "execution_count": 11,
   "metadata": {
    "ExecuteTime": {
     "end_time": "2020-11-15T18:09:12.313837Z",
     "start_time": "2020-11-15T18:09:12.250896Z"
    }
   },
   "outputs": [],
   "source": [
    "df_all.to_pickle(\"C:/Users/YAVUZ/Transfer Fee Project/Transfer Details/Team_played_All.pkl\")"
   ]
  }
 ],
 "metadata": {
  "kernelspec": {
   "display_name": "Python 3",
   "language": "python",
   "name": "python3"
  },
  "language_info": {
   "codemirror_mode": {
    "name": "ipython",
    "version": 3
   },
   "file_extension": ".py",
   "mimetype": "text/x-python",
   "name": "python",
   "nbconvert_exporter": "python",
   "pygments_lexer": "ipython3",
   "version": "3.8.5"
  }
 },
 "nbformat": 4,
 "nbformat_minor": 4
}
