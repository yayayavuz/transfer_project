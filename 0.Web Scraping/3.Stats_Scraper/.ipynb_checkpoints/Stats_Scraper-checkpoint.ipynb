{
 "cells": [
  {
   "cell_type": "code",
   "execution_count": 1,
   "metadata": {
    "ExecuteTime": {
     "end_time": "2020-11-01T13:06:44.484834Z",
     "start_time": "2020-11-01T13:06:43.661080Z"
    }
   },
   "outputs": [],
   "source": [
    "import pandas as pd\n",
    "import requests, bs4,re\n",
    "import numpy as np\n",
    "from datetime import timedelta, date\n",
    "import datetime\n",
    "pd.set_option('float_format', '{:f}'.format)\n",
    "pd.set_option('display.max_columns', None)\n",
    "import time"
   ]
  },
  {
   "cell_type": "code",
   "execution_count": 2,
   "metadata": {
    "ExecuteTime": {
     "end_time": "2020-11-01T13:06:44.531605Z",
     "start_time": "2020-11-01T13:06:44.487855Z"
    }
   },
   "outputs": [],
   "source": [
    "transfers= pd.read_pickle(\"./Paid_Transfers_2016_2020.pkl\")\n",
    "transfers.reset_index(drop=True, inplace=True)"
   ]
  },
  {
   "cell_type": "code",
   "execution_count": 3,
   "metadata": {
    "ExecuteTime": {
     "end_time": "2020-11-01T13:06:44.594515Z",
     "start_time": "2020-11-01T13:06:44.534611Z"
    }
   },
   "outputs": [],
   "source": [
    "transfers_det= pd.read_pickle(\"./Transfers_Hst_Detail2.pkl\")\n",
    "transfers_det.reset_index(drop=True, inplace=True)"
   ]
  },
  {
   "cell_type": "code",
   "execution_count": 4,
   "metadata": {
    "ExecuteTime": {
     "end_time": "2020-11-01T13:06:44.610299Z",
     "start_time": "2020-11-01T13:06:44.596513Z"
    }
   },
   "outputs": [],
   "source": [
    "def inside_table(table):\n",
    "    aa=[]\n",
    "    for i in range(0,len(table.find_all('tr'))):   \n",
    "        leng=len(table.find_all('tr')[i].find_all('td'))\n",
    "        aa.append(leng)\n",
    "    max(aa)\n",
    "    \n",
    "    new_table = pd.DataFrame(columns=range(0,max(aa)), index =range(0,len(table.find_all('tr')))) \n",
    "    title_list=[]\n",
    "    for title in table.find_all('tr')[0].find_all('th'):\n",
    "        if title.get_text() != '\\xa0':\n",
    "            titles=title.get_text()\n",
    "        else:\n",
    "            titles=title.select('span')[0].get('title')\n",
    "        title_list.append(titles)\n",
    "    title_list.insert(2,'Home_Team')\n",
    "    title_list.insert(4,'Away_Team')\n",
    "    \n",
    "    row_marker = 0\n",
    "    for row in table.find_all('tr'):\n",
    "        try:\n",
    "            column_marker = 0\n",
    "            columns = row.find_all('td')\n",
    "            for column in columns:\n",
    "                new_table.iat[row_marker,column_marker] = column.get_text()\n",
    "                column_marker += 1\n",
    "            new_table.iat[row_marker,2] = row.find_all('td')[2].select('img')[0].get('alt')\n",
    "            new_table.iat[row_marker,4] = row.find_all('td')[4].select('img')[0].get('alt')\n",
    "            row_marker+=1\n",
    "        except:\n",
    "            pass\n",
    "    new_table.columns=title_list[0:max(aa)]\n",
    "    new_table=new_table.dropna(how='all') \n",
    "    new_table = new_table[new_table['Date'].notna()]\n",
    "    return new_table"
   ]
  },
  {
   "cell_type": "code",
   "execution_count": 5,
   "metadata": {
    "ExecuteTime": {
     "end_time": "2020-11-01T13:06:44.641126Z",
     "start_time": "2020-11-01T13:06:44.612329Z"
    }
   },
   "outputs": [],
   "source": [
    "def stat_scraper(start,end):\n",
    "    df3=pd.DataFrame()\n",
    "    for j in range(start,end):\n",
    "        print(j)\n",
    "        date_year = datetime.datetime.strptime(transfers_det['Transfer_Date'][j],'%b %d, %Y').year \n",
    "        df2=pd.DataFrame()\n",
    "        for d in range(date_year-3,date_year):\n",
    "            #print(str(d))\n",
    "            url2='https://www.transfermarkt.com/' + transfers['Link'][j].split('/')[1] +\"/leistungsdaten/\" + transfers['Link'][j].split('/')[3]+\"/\"+  transfers['Link'][j].split('/')[4] +\"/saison/\"+str(d)+'/plus/1#gesamt'\n",
    "            headers = {\"User-Agent\":\"Mozilla/5.0\"}\n",
    "            response = requests.get(url2, headers=headers)\n",
    "            soup = bs4.BeautifulSoup(response.text, 'html.parser')\n",
    "            \n",
    "            df=pd.DataFrame()\n",
    "            kk=pd.DataFrame()\n",
    "            table_marker=-1\n",
    "            for table in soup.find_all('table'):\n",
    "                try:\n",
    "                    kk=inside_table(table)\n",
    "                    kk['Competition']=soup.find_all(class_=\"table-header\")[table_marker].select('img')[0].get('alt')\n",
    "                    table_marker+=1\n",
    "                except:\n",
    "                    table_marker+=1\n",
    "                    pass\n",
    "                df=df.append(kk,ignore_index=True,sort=False)\n",
    "            \n",
    "            df['Stats_Season']=str(d-2000)+\"/\"+str(d-2000+1)\n",
    "            df2=df2.append(df,ignore_index=True,sort=False)\n",
    "            #time.sleep(2)\n",
    "            #print(\"Sleep after \" + str(j)+ \"th Transfer and \"+ str(d)+\"th year\")\n",
    "        \n",
    "        df2['Transfer_Link']=transfers_det['Transfer_Link'][j]\n",
    "        df2['Transfer_id']=transfers_det['Transfer_id'][j]\n",
    "        df2['id']=transfers_det['id'][j]\n",
    "        df2['Transfer_Date']=transfers_det['Transfer_Date'][j]\n",
    "        df2['Team_Left']=transfers_det['Team_Left'][j]\n",
    "        df2['Team_Joined']=transfers_det['Team_Joined'][j]\n",
    "        df3=df3.append(df2,ignore_index=True,sort=False)\n",
    "    return df3\n",
    "    "
   ]
  },
  {
   "cell_type": "code",
   "execution_count": 7,
   "metadata": {
    "ExecuteTime": {
     "end_time": "2020-11-01T13:28:51.418100Z",
     "start_time": "2020-11-01T13:07:29.791219Z"
    }
   },
   "outputs": [
    {
     "name": "stdout",
     "output_type": "stream",
     "text": [
      "0\n",
      "1\n",
      "2\n",
      "3\n",
      "4\n",
      "5\n",
      "6\n",
      "7\n",
      "8\n",
      "9\n",
      "10\n",
      "11\n",
      "12\n",
      "13\n",
      "14\n",
      "15\n",
      "16\n",
      "17\n",
      "18\n",
      "19\n",
      "20\n",
      "21\n",
      "22\n",
      "23\n",
      "24\n",
      "25\n",
      "26\n",
      "27\n",
      "28\n",
      "29\n",
      "30\n",
      "31\n",
      "32\n",
      "33\n",
      "34\n",
      "35\n",
      "36\n",
      "37\n",
      "38\n",
      "39\n",
      "40\n",
      "41\n",
      "42\n",
      "43\n",
      "44\n",
      "45\n",
      "46\n",
      "47\n",
      "48\n",
      "49\n",
      "50\n",
      "51\n",
      "52\n",
      "53\n",
      "54\n",
      "55\n",
      "56\n",
      "57\n",
      "58\n",
      "59\n",
      "60\n",
      "61\n",
      "62\n",
      "63\n",
      "64\n",
      "65\n",
      "66\n",
      "67\n",
      "68\n",
      "69\n",
      "70\n",
      "71\n",
      "72\n",
      "73\n",
      "74\n",
      "75\n",
      "76\n",
      "77\n",
      "78\n",
      "79\n",
      "80\n",
      "81\n",
      "82\n",
      "83\n",
      "84\n",
      "85\n",
      "86\n",
      "87\n",
      "88\n",
      "89\n",
      "90\n",
      "91\n",
      "92\n",
      "93\n",
      "94\n",
      "95\n",
      "96\n",
      "97\n",
      "98\n",
      "99\n",
      "100\n",
      "101\n",
      "102\n",
      "103\n",
      "104\n",
      "105\n",
      "106\n",
      "107\n",
      "108\n",
      "109\n",
      "110\n",
      "111\n",
      "112\n",
      "113\n",
      "114\n",
      "115\n",
      "116\n",
      "117\n",
      "118\n",
      "119\n",
      "120\n",
      "121\n",
      "122\n",
      "123\n",
      "124\n",
      "125\n",
      "126\n",
      "127\n",
      "128\n",
      "129\n",
      "130\n",
      "131\n",
      "132\n",
      "133\n",
      "134\n",
      "135\n",
      "136\n",
      "137\n",
      "138\n",
      "139\n",
      "140\n",
      "141\n",
      "142\n",
      "143\n",
      "144\n",
      "145\n",
      "146\n",
      "147\n",
      "148\n",
      "149\n",
      "150\n",
      "151\n",
      "152\n",
      "153\n",
      "154\n",
      "155\n",
      "156\n",
      "157\n",
      "158\n",
      "159\n",
      "160\n",
      "161\n",
      "162\n",
      "163\n",
      "164\n",
      "165\n",
      "166\n",
      "167\n",
      "168\n",
      "169\n",
      "170\n",
      "171\n",
      "172\n",
      "173\n",
      "174\n",
      "175\n",
      "176\n",
      "177\n",
      "178\n",
      "179\n",
      "180\n",
      "181\n",
      "182\n",
      "183\n",
      "184\n",
      "185\n",
      "186\n",
      "187\n",
      "188\n",
      "189\n",
      "190\n",
      "191\n",
      "192\n",
      "193\n",
      "194\n",
      "195\n",
      "196\n",
      "197\n",
      "198\n",
      "199\n"
     ]
    }
   ],
   "source": [
    "df2=pd.DataFrame()\n",
    "for i in range(0,200):\n",
    "     df=stat_scraper(i,i+1)\n",
    "     df2=df2.append(df, ignore_index=True, sort=False)"
   ]
  },
  {
   "cell_type": "code",
   "execution_count": 8,
   "metadata": {
    "ExecuteTime": {
     "end_time": "2020-11-01T13:29:58.158166Z",
     "start_time": "2020-11-01T13:29:58.028515Z"
    }
   },
   "outputs": [],
   "source": [
    "df2.to_pickle(\"./Stats_df2_0_199_sil.pkl\")"
   ]
  },
  {
   "cell_type": "code",
   "execution_count": null,
   "metadata": {
    "ExecuteTime": {
     "end_time": "2020-11-01T13:07:21.025168Z",
     "start_time": "2020-11-01T13:06:43.671Z"
    }
   },
   "outputs": [],
   "source": [
    "df3=pd.DataFrame()\n",
    "for i in range(200,400):\n",
    "     df=stat_scraper(i,i+1)\n",
    "     df3=df3.append(df, ignore_index=True, sort=False)\n"
   ]
  },
  {
   "cell_type": "code",
   "execution_count": null,
   "metadata": {
    "ExecuteTime": {
     "end_time": "2020-11-01T13:07:21.026194Z",
     "start_time": "2020-11-01T13:06:43.673Z"
    }
   },
   "outputs": [],
   "source": [
    "df4=pd.DataFrame()\n",
    "for i in range(400,600):\n",
    "     df=stat_scraper(i,i+1)\n",
    "     df4=df4.append(df, ignore_index=True, sort=False)\n"
   ]
  },
  {
   "cell_type": "code",
   "execution_count": null,
   "metadata": {
    "ExecuteTime": {
     "end_time": "2020-11-01T13:07:21.028188Z",
     "start_time": "2020-11-01T13:06:43.674Z"
    }
   },
   "outputs": [],
   "source": [
    "df5=pd.DataFrame()\n",
    "for i in range(600,800):\n",
    "     df=stat_scraper(i,i+1)\n",
    "     df5=df5.append(df, ignore_index=True, sort=False)\n"
   ]
  },
  {
   "cell_type": "code",
   "execution_count": null,
   "metadata": {
    "ExecuteTime": {
     "end_time": "2020-11-01T13:07:21.029158Z",
     "start_time": "2020-11-01T13:06:43.676Z"
    }
   },
   "outputs": [],
   "source": [
    "df2"
   ]
  },
  {
   "cell_type": "code",
   "execution_count": null,
   "metadata": {
    "ExecuteTime": {
     "end_time": "2020-11-01T13:07:21.031155Z",
     "start_time": "2020-11-01T13:06:43.677Z"
    }
   },
   "outputs": [],
   "source": [
    "df6=pd.DataFrame()\n",
    "for i in range(800,1000):\n",
    "     df=stat_scraper(i,i+1)\n",
    "     df6=df6.append(df, ignore_index=True, sort=False)\n"
   ]
  },
  {
   "cell_type": "code",
   "execution_count": null,
   "metadata": {
    "ExecuteTime": {
     "end_time": "2020-11-01T13:07:21.033150Z",
     "start_time": "2020-11-01T13:06:43.679Z"
    }
   },
   "outputs": [],
   "source": [
    "df7=pd.DataFrame()\n",
    "for i in range(1000,1200):\n",
    "     df=stat_scraper(i,i+1)\n",
    "     df7=df7.append(df, ignore_index=True, sort=False)\n"
   ]
  },
  {
   "cell_type": "code",
   "execution_count": null,
   "metadata": {
    "ExecuteTime": {
     "end_time": "2020-11-01T13:07:21.035173Z",
     "start_time": "2020-11-01T13:06:43.680Z"
    }
   },
   "outputs": [],
   "source": [
    "df8=pd.DataFrame()\n",
    "for i in range(1200,1400):\n",
    "     df=stat_scraper(i,i+1)\n",
    "     df8=df8.append(df, ignore_index=True, sort=False)\n"
   ]
  },
  {
   "cell_type": "code",
   "execution_count": null,
   "metadata": {
    "ExecuteTime": {
     "end_time": "2020-11-01T13:07:21.036139Z",
     "start_time": "2020-11-01T13:06:43.682Z"
    }
   },
   "outputs": [],
   "source": [
    "df9=pd.DataFrame()\n",
    "for i in range(1400,1600):\n",
    "     df=stat_scraper(i,i+1)\n",
    "     df9=df9.append(df, ignore_index=True, sort=False)\n"
   ]
  },
  {
   "cell_type": "code",
   "execution_count": null,
   "metadata": {
    "ExecuteTime": {
     "end_time": "2020-11-01T13:07:21.038135Z",
     "start_time": "2020-11-01T13:06:43.683Z"
    }
   },
   "outputs": [],
   "source": [
    "df10=pd.DataFrame()\n",
    "for i in range(1600,1800):\n",
    "     df=stat_scraper(i,i+1)\n",
    "     df10=df10.append(df, ignore_index=True, sort=False)\n"
   ]
  },
  {
   "cell_type": "code",
   "execution_count": null,
   "metadata": {
    "ExecuteTime": {
     "end_time": "2020-11-01T13:07:21.040162Z",
     "start_time": "2020-11-01T13:06:43.685Z"
    }
   },
   "outputs": [],
   "source": [
    "df11=pd.DataFrame()\n",
    "for i in range(1800,2000):\n",
    "     df=stat_scraper(i,i+1)\n",
    "     df11=df11.append(df, ignore_index=True, sort=False)\n"
   ]
  },
  {
   "cell_type": "code",
   "execution_count": null,
   "metadata": {
    "ExecuteTime": {
     "end_time": "2020-11-01T13:07:21.042124Z",
     "start_time": "2020-11-01T13:06:43.686Z"
    }
   },
   "outputs": [],
   "source": [
    "df12=pd.DataFrame()\n",
    "for i in range(2000,2200):\n",
    "     df=stat_scraper(i,i+1)\n",
    "     df12=df12.append(df, ignore_index=True, sort=False)\n"
   ]
  },
  {
   "cell_type": "code",
   "execution_count": null,
   "metadata": {
    "ExecuteTime": {
     "end_time": "2020-11-01T13:07:21.043121Z",
     "start_time": "2020-11-01T13:06:43.688Z"
    }
   },
   "outputs": [],
   "source": [
    "df13=pd.DataFrame()\n",
    "for i in range(2200,2400):\n",
    "     df=stat_scraper(i,i+1)\n",
    "     df13=df13.append(df, ignore_index=True, sort=False)\n"
   ]
  },
  {
   "cell_type": "code",
   "execution_count": null,
   "metadata": {
    "ExecuteTime": {
     "end_time": "2020-11-01T13:07:21.044120Z",
     "start_time": "2020-11-01T13:06:43.690Z"
    }
   },
   "outputs": [],
   "source": [
    "df14=pd.DataFrame()\n",
    "for i in range(2400,2600):\n",
    "     df=stat_scraper(i,i+1)\n",
    "     df14=df14.append(df, ignore_index=True, sort=False)\n"
   ]
  },
  {
   "cell_type": "code",
   "execution_count": null,
   "metadata": {
    "ExecuteTime": {
     "end_time": "2020-11-01T13:07:21.045116Z",
     "start_time": "2020-11-01T13:06:43.692Z"
    }
   },
   "outputs": [],
   "source": [
    "df15=pd.DataFrame()\n",
    "for i in range(2600,2800):\n",
    "     df=stat_scraper(i,i+1)\n",
    "     df15=df15.append(df, ignore_index=True, sort=False)\n"
   ]
  },
  {
   "cell_type": "code",
   "execution_count": null,
   "metadata": {
    "ExecuteTime": {
     "end_time": "2020-11-01T13:07:21.046113Z",
     "start_time": "2020-11-01T13:06:43.693Z"
    }
   },
   "outputs": [],
   "source": [
    "df16=pd.DataFrame()\n",
    "for i in range(2800,3000):\n",
    "     df=stat_scraper(i,i+1)\n",
    "     df16=df16.append(df, ignore_index=True, sort=False)\n"
   ]
  },
  {
   "cell_type": "code",
   "execution_count": null,
   "metadata": {
    "ExecuteTime": {
     "end_time": "2020-11-01T13:07:21.047111Z",
     "start_time": "2020-11-01T13:06:43.695Z"
    }
   },
   "outputs": [],
   "source": [
    "df17=pd.DataFrame()\n",
    "for i in range(3000,3200):\n",
    "     df=stat_scraper(i,i+1)\n",
    "     df17=df17.append(df, ignore_index=True, sort=False)\n"
   ]
  },
  {
   "cell_type": "code",
   "execution_count": null,
   "metadata": {
    "ExecuteTime": {
     "end_time": "2020-11-01T13:07:21.048109Z",
     "start_time": "2020-11-01T13:06:43.696Z"
    }
   },
   "outputs": [],
   "source": [
    "df18=pd.DataFrame()\n",
    "for i in range(3200,3400):\n",
    "     df=stat_scraper(i,i+1)\n",
    "     df18=df18.append(df, ignore_index=True, sort=False)\n"
   ]
  },
  {
   "cell_type": "code",
   "execution_count": null,
   "metadata": {
    "ExecuteTime": {
     "end_time": "2020-11-01T13:07:21.049105Z",
     "start_time": "2020-11-01T13:06:43.699Z"
    }
   },
   "outputs": [],
   "source": [
    "df19=pd.DataFrame()\n",
    "for i in range(3400,3600):\n",
    "     df=stat_scraper(i,i+1)\n",
    "     df19=df19.append(df, ignore_index=True, sort=False)\n"
   ]
  },
  {
   "cell_type": "code",
   "execution_count": null,
   "metadata": {
    "ExecuteTime": {
     "end_time": "2020-11-01T13:07:21.050104Z",
     "start_time": "2020-11-01T13:06:43.700Z"
    }
   },
   "outputs": [],
   "source": [
    "df20=pd.DataFrame()\n",
    "for i in range(3600,3800):\n",
    "     df=stat_scraper(i,i+1)\n",
    "     df20=df20.append(df, ignore_index=True, sort=False)\n"
   ]
  },
  {
   "cell_type": "code",
   "execution_count": null,
   "metadata": {
    "ExecuteTime": {
     "end_time": "2020-11-01T13:07:21.052097Z",
     "start_time": "2020-11-01T13:06:43.703Z"
    }
   },
   "outputs": [],
   "source": [
    "df21=pd.DataFrame()\n",
    "for i in range(3800,4000):\n",
    "     df=stat_scraper(i,i+1)\n",
    "     df21=df21.append(df, ignore_index=True, sort=False)\n"
   ]
  },
  {
   "cell_type": "code",
   "execution_count": null,
   "metadata": {
    "ExecuteTime": {
     "end_time": "2020-11-01T13:07:21.060127Z",
     "start_time": "2020-11-01T13:06:43.704Z"
    }
   },
   "outputs": [],
   "source": [
    "df22=pd.DataFrame()\n",
    "for i in range(4000,4200):\n",
    "     df=stat_scraper(i,i+1)\n",
    "     df22=df22.append(df, ignore_index=True, sort=False)\n"
   ]
  },
  {
   "cell_type": "code",
   "execution_count": null,
   "metadata": {
    "ExecuteTime": {
     "end_time": "2020-11-01T13:07:21.062073Z",
     "start_time": "2020-11-01T13:06:43.706Z"
    }
   },
   "outputs": [],
   "source": [
    "df23=pd.DataFrame()\n",
    "for i in range(4200,4400):\n",
    "     df=stat_scraper(i,i+1)\n",
    "     df23=df23.append(df, ignore_index=True, sort=False)\n"
   ]
  },
  {
   "cell_type": "code",
   "execution_count": null,
   "metadata": {
    "ExecuteTime": {
     "end_time": "2020-11-01T13:07:21.071048Z",
     "start_time": "2020-11-01T13:06:43.708Z"
    }
   },
   "outputs": [],
   "source": [
    "df24=pd.DataFrame()\n",
    "for i in range(4400,4600):\n",
    "     df=stat_scraper(i,i+1)\n",
    "     df24=df24.append(df, ignore_index=True, sort=False)\n"
   ]
  },
  {
   "cell_type": "code",
   "execution_count": null,
   "metadata": {
    "ExecuteTime": {
     "end_time": "2020-11-01T13:07:21.074049Z",
     "start_time": "2020-11-01T13:06:43.710Z"
    }
   },
   "outputs": [],
   "source": [
    "df25=pd.DataFrame()\n",
    "for i in range(4600,4800):\n",
    "     df=stat_scraper(i,i+1)\n",
    "     df25=df25.append(df, ignore_index=True, sort=False)\n"
   ]
  },
  {
   "cell_type": "code",
   "execution_count": null,
   "metadata": {
    "ExecuteTime": {
     "end_time": "2020-11-01T13:07:21.078028Z",
     "start_time": "2020-11-01T13:06:43.713Z"
    }
   },
   "outputs": [],
   "source": [
    "df26=pd.DataFrame()\n",
    "for i in range(4800,5000):\n",
    "     df=stat_scraper(i,i+1)\n",
    "     df26=df26.append(df, ignore_index=True, sort=False)\n"
   ]
  },
  {
   "cell_type": "code",
   "execution_count": null,
   "metadata": {
    "ExecuteTime": {
     "end_time": "2020-11-01T13:07:21.080023Z",
     "start_time": "2020-11-01T13:06:43.720Z"
    }
   },
   "outputs": [],
   "source": [
    "df27=pd.DataFrame()\n",
    "for i in range(5000,5200):\n",
    "     df=stat_scraper(i,i+1)\n",
    "     df27=df27.append(df, ignore_index=True, sort=False)\n"
   ]
  },
  {
   "cell_type": "code",
   "execution_count": null,
   "metadata": {
    "ExecuteTime": {
     "end_time": "2020-11-01T13:07:21.085014Z",
     "start_time": "2020-11-01T13:06:43.722Z"
    }
   },
   "outputs": [],
   "source": [
    "df28=pd.DataFrame()\n",
    "for i in range(5200,5400):\n",
    "     df=stat_scraper(i,i+1)\n",
    "     df28=df28.append(df, ignore_index=True, sort=False)\n"
   ]
  },
  {
   "cell_type": "code",
   "execution_count": null,
   "metadata": {
    "ExecuteTime": {
     "end_time": "2020-11-01T13:07:21.087005Z",
     "start_time": "2020-11-01T13:06:43.723Z"
    }
   },
   "outputs": [],
   "source": [
    "df29=pd.DataFrame()\n",
    "for i in range(5400,5600):\n",
    "     df=stat_scraper(i,i+1)\n",
    "     df29=df29.append(df, ignore_index=True, sort=False)\n"
   ]
  },
  {
   "cell_type": "code",
   "execution_count": null,
   "metadata": {
    "ExecuteTime": {
     "end_time": "2020-11-01T13:07:21.089012Z",
     "start_time": "2020-11-01T13:06:43.726Z"
    }
   },
   "outputs": [],
   "source": [
    "df30=pd.DataFrame()\n",
    "for i in range(5600,5800):\n",
    "     df=stat_scraper(i,i+1)\n",
    "     df30=df30.append(df, ignore_index=True, sort=False)\n"
   ]
  },
  {
   "cell_type": "code",
   "execution_count": null,
   "metadata": {
    "ExecuteTime": {
     "end_time": "2020-11-01T13:07:21.090994Z",
     "start_time": "2020-11-01T13:06:43.727Z"
    }
   },
   "outputs": [],
   "source": [
    "df31=pd.DataFrame()\n",
    "for i in range(5800,6000):\n",
    "     df=stat_scraper(i,i+1)\n",
    "     df31=df31.append(df, ignore_index=True, sort=False)\n"
   ]
  },
  {
   "cell_type": "code",
   "execution_count": null,
   "metadata": {
    "ExecuteTime": {
     "end_time": "2020-11-01T13:07:21.091991Z",
     "start_time": "2020-11-01T13:06:43.729Z"
    }
   },
   "outputs": [],
   "source": [
    "df32=pd.DataFrame()\n",
    "for i in range(6000,6200):\n",
    "     df=stat_scraper(i,i+1)\n",
    "     df32=df32.append(df, ignore_index=True, sort=False)\n"
   ]
  },
  {
   "cell_type": "code",
   "execution_count": null,
   "metadata": {
    "ExecuteTime": {
     "end_time": "2020-11-01T13:07:21.092987Z",
     "start_time": "2020-11-01T13:06:43.731Z"
    }
   },
   "outputs": [],
   "source": [
    "df33=pd.DataFrame()\n",
    "for i in range(6200,6400):\n",
    "     df=stat_scraper(i,i+1)\n",
    "     df33=df33.append(df, ignore_index=True, sort=False)\n"
   ]
  },
  {
   "cell_type": "code",
   "execution_count": null,
   "metadata": {
    "ExecuteTime": {
     "end_time": "2020-11-01T13:07:21.093986Z",
     "start_time": "2020-11-01T13:06:43.733Z"
    }
   },
   "outputs": [],
   "source": [
    "df34=pd.DataFrame()\n",
    "for i in range(6400,6600):\n",
    "     df=stat_scraper(i,i+1)\n",
    "     df34=df34.append(df, ignore_index=True, sort=False)\n"
   ]
  },
  {
   "cell_type": "code",
   "execution_count": null,
   "metadata": {
    "ExecuteTime": {
     "end_time": "2020-11-01T13:07:21.094982Z",
     "start_time": "2020-11-01T13:06:43.735Z"
    }
   },
   "outputs": [],
   "source": [
    "df35=pd.DataFrame()\n",
    "for i in range(6600,6800):\n",
    "     df=stat_scraper(i,i+1)\n",
    "     df35=df35.append(df, ignore_index=True, sort=False)\n"
   ]
  },
  {
   "cell_type": "code",
   "execution_count": null,
   "metadata": {
    "ExecuteTime": {
     "end_time": "2020-11-01T13:07:21.096997Z",
     "start_time": "2020-11-01T13:06:43.738Z"
    }
   },
   "outputs": [],
   "source": [
    "df36=pd.DataFrame()\n",
    "for i in range(6800,7000):\n",
    "     df=stat_scraper(i,i+1)\n",
    "     df36=df36.append(df, ignore_index=True, sort=False)\n"
   ]
  },
  {
   "cell_type": "code",
   "execution_count": null,
   "metadata": {
    "ExecuteTime": {
     "end_time": "2020-11-01T13:07:21.097974Z",
     "start_time": "2020-11-01T13:06:43.740Z"
    }
   },
   "outputs": [],
   "source": [
    "df37=pd.DataFrame()\n",
    "for i in range(7000,7200):\n",
    "     df=stat_scraper(i,i+1)\n",
    "     df37=df37.append(df, ignore_index=True, sort=False)\n"
   ]
  },
  {
   "cell_type": "code",
   "execution_count": null,
   "metadata": {
    "ExecuteTime": {
     "end_time": "2020-11-01T13:07:21.099971Z",
     "start_time": "2020-11-01T13:06:43.742Z"
    }
   },
   "outputs": [],
   "source": [
    "df38=pd.DataFrame()\n",
    "for i in range(7200,7400):\n",
    "     df=stat_scraper(i,i+1)\n",
    "     df38=df38.append(df, ignore_index=True, sort=False)\n"
   ]
  },
  {
   "cell_type": "code",
   "execution_count": null,
   "metadata": {
    "ExecuteTime": {
     "end_time": "2020-11-01T13:07:21.101965Z",
     "start_time": "2020-11-01T13:06:43.744Z"
    }
   },
   "outputs": [],
   "source": [
    "df39=pd.DataFrame()\n",
    "for i in range(7400,7600):\n",
    "     df=stat_scraper(i,i+1)\n",
    "     df39=df39.append(df, ignore_index=True, sort=False)\n"
   ]
  },
  {
   "cell_type": "code",
   "execution_count": null,
   "metadata": {
    "ExecuteTime": {
     "end_time": "2020-11-01T13:07:21.105956Z",
     "start_time": "2020-11-01T13:06:43.746Z"
    }
   },
   "outputs": [],
   "source": [
    "df40=pd.DataFrame()\n",
    "for i in range(7600,7800):\n",
    "     df=stat_scraper(i,i+1)\n",
    "     df40=df40.append(df, ignore_index=True, sort=False)\n"
   ]
  },
  {
   "cell_type": "code",
   "execution_count": null,
   "metadata": {
    "ExecuteTime": {
     "end_time": "2020-11-01T13:07:21.110948Z",
     "start_time": "2020-11-01T13:06:43.748Z"
    }
   },
   "outputs": [],
   "source": [
    "df41=pd.DataFrame()\n",
    "for i in range(7800,8000):\n",
    "     df=stat_scraper(i,i+1)\n",
    "     df41=df41.append(df, ignore_index=True, sort=False)\n"
   ]
  },
  {
   "cell_type": "code",
   "execution_count": null,
   "metadata": {
    "ExecuteTime": {
     "end_time": "2020-11-01T13:07:21.112936Z",
     "start_time": "2020-11-01T13:06:43.751Z"
    }
   },
   "outputs": [],
   "source": [
    "df42=pd.DataFrame()\n",
    "for i in range(8000,8200):\n",
    "     df=stat_scraper(i,i+1)\n",
    "     df42=df42.append(df, ignore_index=True, sort=False)\n"
   ]
  },
  {
   "cell_type": "code",
   "execution_count": null,
   "metadata": {
    "ExecuteTime": {
     "end_time": "2020-11-01T13:07:21.114944Z",
     "start_time": "2020-11-01T13:06:43.752Z"
    }
   },
   "outputs": [],
   "source": [
    "df43=pd.DataFrame()\n",
    "for i in range(8200,8400):\n",
    "     df=stat_scraper(i,i+1)\n",
    "     df43=df43.append(df, ignore_index=True, sort=False)\n"
   ]
  },
  {
   "cell_type": "code",
   "execution_count": null,
   "metadata": {
    "ExecuteTime": {
     "end_time": "2020-11-01T13:07:21.116928Z",
     "start_time": "2020-11-01T13:06:43.754Z"
    }
   },
   "outputs": [],
   "source": [
    "df44=pd.DataFrame()\n",
    "for i in range(8400,8600):\n",
    "     df=stat_scraper(i,i+1)\n",
    "     df44=df44.append(df, ignore_index=True, sort=False)\n"
   ]
  },
  {
   "cell_type": "code",
   "execution_count": null,
   "metadata": {
    "ExecuteTime": {
     "end_time": "2020-11-01T13:07:21.117921Z",
     "start_time": "2020-11-01T13:06:43.756Z"
    }
   },
   "outputs": [],
   "source": [
    "df45=pd.DataFrame()\n",
    "for i in range(8600,8800):\n",
    "     df=stat_scraper(i,i+1)\n",
    "     df45=df45.append(df, ignore_index=True, sort=False)\n"
   ]
  },
  {
   "cell_type": "code",
   "execution_count": null,
   "metadata": {
    "ExecuteTime": {
     "end_time": "2020-11-01T13:07:21.118918Z",
     "start_time": "2020-11-01T13:06:43.757Z"
    }
   },
   "outputs": [],
   "source": [
    "df46=pd.DataFrame()\n",
    "for i in range(8800,9000):\n",
    "     df=stat_scraper(i,i+1)\n",
    "     df46=df46.append(df, ignore_index=True, sort=False)\n"
   ]
  },
  {
   "cell_type": "code",
   "execution_count": null,
   "metadata": {
    "ExecuteTime": {
     "end_time": "2020-11-01T13:07:21.120914Z",
     "start_time": "2020-11-01T13:06:43.759Z"
    }
   },
   "outputs": [],
   "source": [
    "df47=pd.DataFrame()\n",
    "for i in range(9000,9200):\n",
    "     df=stat_scraper(i,i+1)\n",
    "     df47=df47.append(df, ignore_index=True, sort=False)\n"
   ]
  },
  {
   "cell_type": "code",
   "execution_count": null,
   "metadata": {
    "ExecuteTime": {
     "end_time": "2020-11-01T13:07:21.121911Z",
     "start_time": "2020-11-01T13:06:43.761Z"
    }
   },
   "outputs": [],
   "source": [
    "df48=pd.DataFrame()\n",
    "for i in range(9200,9400):\n",
    "     df=stat_scraper(i,i+1)\n",
    "     df48=df48.append(df, ignore_index=True, sort=False)\n"
   ]
  },
  {
   "cell_type": "code",
   "execution_count": null,
   "metadata": {
    "ExecuteTime": {
     "end_time": "2020-11-01T13:07:21.124925Z",
     "start_time": "2020-11-01T13:06:43.763Z"
    }
   },
   "outputs": [],
   "source": [
    "df49=pd.DataFrame()\n",
    "for i in range(9400,9600):\n",
    "     df=stat_scraper(i,i+1)\n",
    "     df49=df49.append(df, ignore_index=True, sort=False)\n"
   ]
  }
 ],
 "metadata": {
  "kernelspec": {
   "display_name": "Python 3",
   "language": "python",
   "name": "python3"
  },
  "language_info": {
   "codemirror_mode": {
    "name": "ipython",
    "version": 3
   },
   "file_extension": ".py",
   "mimetype": "text/x-python",
   "name": "python",
   "nbconvert_exporter": "python",
   "pygments_lexer": "ipython3",
   "version": "3.8.5"
  }
 },
 "nbformat": 4,
 "nbformat_minor": 4
}
