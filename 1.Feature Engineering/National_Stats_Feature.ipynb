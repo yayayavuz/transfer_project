{
 "cells": [
  {
   "cell_type": "code",
   "execution_count": 1,
   "metadata": {
    "ExecuteTime": {
     "end_time": "2020-11-25T17:27:57.031559Z",
     "start_time": "2020-11-25T17:27:56.560481Z"
    }
   },
   "outputs": [],
   "source": [
    "import pandas as pd\n",
    "import numpy as np"
   ]
  },
  {
   "cell_type": "code",
   "execution_count": 2,
   "metadata": {
    "ExecuteTime": {
     "end_time": "2020-11-25T17:27:57.439922Z",
     "start_time": "2020-11-25T17:27:57.033979Z"
    }
   },
   "outputs": [],
   "source": [
    "stats = pd.read_pickle('C:/Users/YAVUZ/Transfer Fee Project/National Stats Scraper/Final_National_Stats_Matches.pkl')"
   ]
  },
  {
   "cell_type": "code",
   "execution_count": 3,
   "metadata": {
    "ExecuteTime": {
     "end_time": "2020-11-25T17:27:57.455886Z",
     "start_time": "2020-11-25T17:27:57.441888Z"
    }
   },
   "outputs": [
    {
     "data": {
      "text/plain": [
       "(256354, 19)"
      ]
     },
     "execution_count": 3,
     "metadata": {},
     "output_type": "execute_result"
    }
   ],
   "source": [
    "stats.shape"
   ]
  },
  {
   "cell_type": "code",
   "execution_count": 4,
   "metadata": {
    "ExecuteTime": {
     "end_time": "2020-11-25T17:27:57.868398Z",
     "start_time": "2020-11-25T17:27:57.459843Z"
    }
   },
   "outputs": [],
   "source": [
    "stats_unique=stats.drop_duplicates()"
   ]
  },
  {
   "cell_type": "code",
   "execution_count": 5,
   "metadata": {
    "ExecuteTime": {
     "end_time": "2020-11-25T17:27:57.884442Z",
     "start_time": "2020-11-25T17:27:57.870396Z"
    }
   },
   "outputs": [
    {
     "data": {
      "text/plain": [
       "(242872, 19)"
      ]
     },
     "execution_count": 5,
     "metadata": {},
     "output_type": "execute_result"
    }
   ],
   "source": [
    "stats_unique.shape"
   ]
  },
  {
   "cell_type": "code",
   "execution_count": 6,
   "metadata": {
    "ExecuteTime": {
     "end_time": "2020-11-25T17:27:57.916274Z",
     "start_time": "2020-11-25T17:27:57.886353Z"
    }
   },
   "outputs": [],
   "source": [
    "national_urls = pd.read_pickle('C:/Users/YAVUZ/Transfer Fee Project/Feature Engineering/National_Stats_Features_All.pkl')"
   ]
  },
  {
   "cell_type": "code",
   "execution_count": 7,
   "metadata": {
    "ExecuteTime": {
     "end_time": "2020-11-25T17:27:57.963196Z",
     "start_time": "2020-11-25T17:27:57.920264Z"
    }
   },
   "outputs": [],
   "source": [
    "profile=pd.read_pickle('C:/Users/YAVUZ/Transfer Fee Project/Player_Profiler/Player_profile.pkl')"
   ]
  },
  {
   "cell_type": "code",
   "execution_count": 8,
   "metadata": {
    "ExecuteTime": {
     "end_time": "2020-11-25T17:27:57.979209Z",
     "start_time": "2020-11-25T17:27:57.967187Z"
    }
   },
   "outputs": [],
   "source": [
    "#pd.DataFrame(stats['position'].unique()).to_csv('position_group_national.csv')"
   ]
  },
  {
   "cell_type": "code",
   "execution_count": 9,
   "metadata": {
    "ExecuteTime": {
     "end_time": "2020-11-25T17:27:57.994195Z",
     "start_time": "2020-11-25T17:27:57.982209Z"
    }
   },
   "outputs": [],
   "source": [
    "pos_groups = pd.read_csv('./position_group_national.csv', delimiter=\";\")\n",
    "pos_groups.columns = ['position', 'Excuse']"
   ]
  },
  {
   "cell_type": "code",
   "execution_count": 10,
   "metadata": {
    "ExecuteTime": {
     "end_time": "2020-11-25T17:27:58.010127Z",
     "start_time": "2020-11-25T17:27:57.996185Z"
    }
   },
   "outputs": [
    {
     "data": {
      "text/html": [
       "<div>\n",
       "<style scoped>\n",
       "    .dataframe tbody tr th:only-of-type {\n",
       "        vertical-align: middle;\n",
       "    }\n",
       "\n",
       "    .dataframe tbody tr th {\n",
       "        vertical-align: top;\n",
       "    }\n",
       "\n",
       "    .dataframe thead th {\n",
       "        text-align: right;\n",
       "    }\n",
       "</style>\n",
       "<table border=\"1\" class=\"dataframe\">\n",
       "  <thead>\n",
       "    <tr style=\"text-align: right;\">\n",
       "      <th></th>\n",
       "      <th>position</th>\n",
       "      <th>Excuse</th>\n",
       "    </tr>\n",
       "  </thead>\n",
       "  <tbody>\n",
       "    <tr>\n",
       "      <th>0</th>\n",
       "      <td>RW</td>\n",
       "      <td>Position</td>\n",
       "    </tr>\n",
       "    <tr>\n",
       "      <th>1</th>\n",
       "      <td>Tendonitis</td>\n",
       "      <td>Injury</td>\n",
       "    </tr>\n",
       "    <tr>\n",
       "      <th>2</th>\n",
       "      <td>not in squad</td>\n",
       "      <td>not in squad</td>\n",
       "    </tr>\n",
       "    <tr>\n",
       "      <th>3</th>\n",
       "      <td>LW</td>\n",
       "      <td>Position</td>\n",
       "    </tr>\n",
       "    <tr>\n",
       "      <th>4</th>\n",
       "      <td>NaN</td>\n",
       "      <td>XX</td>\n",
       "    </tr>\n",
       "    <tr>\n",
       "      <th>...</th>\n",
       "      <td>...</td>\n",
       "      <td>...</td>\n",
       "    </tr>\n",
       "    <tr>\n",
       "      <th>273</th>\n",
       "      <td>Bruise on ankle</td>\n",
       "      <td>Injury</td>\n",
       "    </tr>\n",
       "    <tr>\n",
       "      <th>274</th>\n",
       "      <td>Tibia and Fibula Fracture</td>\n",
       "      <td>Injury</td>\n",
       "    </tr>\n",
       "    <tr>\n",
       "      <th>275</th>\n",
       "      <td>Contracture</td>\n",
       "      <td>Injury</td>\n",
       "    </tr>\n",
       "    <tr>\n",
       "      <th>276</th>\n",
       "      <td>Fracture-dislocation of the ankle</td>\n",
       "      <td>Injury</td>\n",
       "    </tr>\n",
       "    <tr>\n",
       "      <th>277</th>\n",
       "      <td>Corona virus</td>\n",
       "      <td>Injury</td>\n",
       "    </tr>\n",
       "  </tbody>\n",
       "</table>\n",
       "<p>278 rows × 2 columns</p>\n",
       "</div>"
      ],
      "text/plain": [
       "                              position        Excuse\n",
       "0                                   RW      Position\n",
       "1                           Tendonitis        Injury\n",
       "2                         not in squad  not in squad\n",
       "3                                   LW      Position\n",
       "4                                  NaN            XX\n",
       "..                                 ...           ...\n",
       "273                    Bruise on ankle        Injury\n",
       "274          Tibia and Fibula Fracture        Injury\n",
       "275                        Contracture        Injury\n",
       "276  Fracture-dislocation of the ankle        Injury\n",
       "277                       Corona virus        Injury\n",
       "\n",
       "[278 rows x 2 columns]"
      ]
     },
     "execution_count": 10,
     "metadata": {},
     "output_type": "execute_result"
    }
   ],
   "source": [
    "pos_groups"
   ]
  },
  {
   "cell_type": "code",
   "execution_count": 11,
   "metadata": {
    "ExecuteTime": {
     "end_time": "2020-11-25T17:27:58.279407Z",
     "start_time": "2020-11-25T17:27:58.012121Z"
    }
   },
   "outputs": [],
   "source": [
    "stats_unique = stats_unique.merge(pos_groups, on=['position'], how='left')"
   ]
  },
  {
   "cell_type": "code",
   "execution_count": 12,
   "metadata": {
    "ExecuteTime": {
     "end_time": "2020-11-25T17:27:58.405591Z",
     "start_time": "2020-11-25T17:27:58.280405Z"
    }
   },
   "outputs": [],
   "source": [
    "stats_unique_joined = stats_unique.merge(national_urls[['Transfer_id','verein_id','Team']], on=['Transfer_id','verein_id'], how='left')"
   ]
  },
  {
   "cell_type": "code",
   "execution_count": 13,
   "metadata": {
    "ExecuteTime": {
     "end_time": "2020-11-25T17:27:58.421074Z",
     "start_time": "2020-11-25T17:27:58.407588Z"
    }
   },
   "outputs": [
    {
     "data": {
      "text/plain": [
       "(256319, 21)"
      ]
     },
     "execution_count": 13,
     "metadata": {},
     "output_type": "execute_result"
    }
   ],
   "source": [
    "stats_unique_joined.shape"
   ]
  },
  {
   "cell_type": "code",
   "execution_count": 14,
   "metadata": {
    "ExecuteTime": {
     "end_time": "2020-11-25T17:28:10.002844Z",
     "start_time": "2020-11-25T17:27:58.422867Z"
    }
   },
   "outputs": [],
   "source": [
    "stats_df=stats_unique_joined[(stats_unique_joined['home_team']==stats_unique_joined['Team'])| (stats_unique_joined['away_team']==stats_unique_joined['Team']) |\n",
    "                    ((stats_unique_joined['competition'].isin(['U20 Elite League','U17-Europameisterschaft 2013'])) & (stats_unique_joined['home_team'].str.contains(\"\\(\")) &\n",
    "                    (stats_unique_joined['away_team'].str.contains(\"\\(\")) & ((stats_unique_joined.apply(lambda x: x.Team in x.away_team, axis=1)) | (stats_unique_joined.apply(lambda x: x.Team in x.home_team, axis=1)) )) |\n",
    "                    (stats_unique_joined['verein_id']=='5148')] "
   ]
  },
  {
   "cell_type": "code",
   "execution_count": 15,
   "metadata": {
    "ExecuteTime": {
     "end_time": "2020-11-25T17:28:11.495907Z",
     "start_time": "2020-11-25T17:28:10.004853Z"
    }
   },
   "outputs": [],
   "source": [
    "aa = stats_df['result'].str.extractall('(\\d+)')\n",
    "aa = aa.unstack()\n",
    "aa.columns = ['Home_Goals','Away_Goals']\n",
    "stats_df = stats_df.merge(aa,how='inner', left_index=True, right_index=True)"
   ]
  },
  {
   "cell_type": "code",
   "execution_count": 16,
   "metadata": {
    "ExecuteTime": {
     "end_time": "2020-11-25T17:28:11.990121Z",
     "start_time": "2020-11-25T17:28:11.497910Z"
    }
   },
   "outputs": [
    {
     "data": {
      "text/html": [
       "<div>\n",
       "<style scoped>\n",
       "    .dataframe tbody tr th:only-of-type {\n",
       "        vertical-align: middle;\n",
       "    }\n",
       "\n",
       "    .dataframe tbody tr th {\n",
       "        vertical-align: top;\n",
       "    }\n",
       "\n",
       "    .dataframe thead th {\n",
       "        text-align: right;\n",
       "    }\n",
       "</style>\n",
       "<table border=\"1\" class=\"dataframe\">\n",
       "  <thead>\n",
       "    <tr style=\"text-align: right;\">\n",
       "      <th></th>\n",
       "      <th>competition</th>\n",
       "      <th>match_date</th>\n",
       "      <th>home_team</th>\n",
       "      <th>away_team</th>\n",
       "      <th>result</th>\n",
       "      <th>position</th>\n",
       "      <th>goals</th>\n",
       "      <th>assists</th>\n",
       "      <th>own_goals</th>\n",
       "      <th>yellow_card</th>\n",
       "      <th>...</th>\n",
       "      <th>substitutions_off</th>\n",
       "      <th>minutes_played</th>\n",
       "      <th>Transfer_id</th>\n",
       "      <th>id</th>\n",
       "      <th>verein_id</th>\n",
       "      <th>Transfer_Date</th>\n",
       "      <th>Excuse</th>\n",
       "      <th>Team</th>\n",
       "      <th>Home_Goals</th>\n",
       "      <th>Away_Goals</th>\n",
       "    </tr>\n",
       "  </thead>\n",
       "  <tbody>\n",
       "    <tr>\n",
       "      <th>0</th>\n",
       "      <td>International Friendlies</td>\n",
       "      <td>2013-08-13</td>\n",
       "      <td>Germany U21</td>\n",
       "      <td>France U21</td>\n",
       "      <td>0:0</td>\n",
       "      <td>RW</td>\n",
       "      <td></td>\n",
       "      <td></td>\n",
       "      <td></td>\n",
       "      <td></td>\n",
       "      <td>...</td>\n",
       "      <td></td>\n",
       "      <td>30'</td>\n",
       "      <td>1391587</td>\n",
       "      <td>7161</td>\n",
       "      <td>3817</td>\n",
       "      <td>2016-01-01</td>\n",
       "      <td>Position</td>\n",
       "      <td>Germany U21</td>\n",
       "      <td>0</td>\n",
       "      <td>0</td>\n",
       "    </tr>\n",
       "    <tr>\n",
       "      <th>1</th>\n",
       "      <td>UEFA European Under-21 Championship Qualifying</td>\n",
       "      <td>2013-09-06</td>\n",
       "      <td>Faroe U21</td>\n",
       "      <td>Germany U21</td>\n",
       "      <td>0:3</td>\n",
       "      <td>RW</td>\n",
       "      <td>1</td>\n",
       "      <td>1</td>\n",
       "      <td></td>\n",
       "      <td></td>\n",
       "      <td>...</td>\n",
       "      <td></td>\n",
       "      <td>45'</td>\n",
       "      <td>1391587</td>\n",
       "      <td>7161</td>\n",
       "      <td>3817</td>\n",
       "      <td>2016-01-01</td>\n",
       "      <td>Position</td>\n",
       "      <td>Germany U21</td>\n",
       "      <td>0</td>\n",
       "      <td>3</td>\n",
       "    </tr>\n",
       "    <tr>\n",
       "      <th>2</th>\n",
       "      <td>UEFA European Under-21 Championship Qualifying</td>\n",
       "      <td>2013-09-09</td>\n",
       "      <td>Ireland U21</td>\n",
       "      <td>Germany U21</td>\n",
       "      <td>0:4</td>\n",
       "      <td>RW</td>\n",
       "      <td></td>\n",
       "      <td></td>\n",
       "      <td></td>\n",
       "      <td></td>\n",
       "      <td>...</td>\n",
       "      <td>46'</td>\n",
       "      <td>45'</td>\n",
       "      <td>1391587</td>\n",
       "      <td>7161</td>\n",
       "      <td>3817</td>\n",
       "      <td>2016-01-01</td>\n",
       "      <td>Position</td>\n",
       "      <td>Germany U21</td>\n",
       "      <td>0</td>\n",
       "      <td>4</td>\n",
       "    </tr>\n",
       "    <tr>\n",
       "      <th>3</th>\n",
       "      <td>UEFA European Under-21 Championship Qualifying</td>\n",
       "      <td>2013-10-11</td>\n",
       "      <td>Germany U21</td>\n",
       "      <td>Montenegro U21</td>\n",
       "      <td>2:0</td>\n",
       "      <td>Tendonitis</td>\n",
       "      <td>NaN</td>\n",
       "      <td>NaN</td>\n",
       "      <td>NaN</td>\n",
       "      <td>NaN</td>\n",
       "      <td>...</td>\n",
       "      <td>NaN</td>\n",
       "      <td>NaN</td>\n",
       "      <td>1391587</td>\n",
       "      <td>7161</td>\n",
       "      <td>3817</td>\n",
       "      <td>2016-01-01</td>\n",
       "      <td>Injury</td>\n",
       "      <td>Germany U21</td>\n",
       "      <td>2</td>\n",
       "      <td>0</td>\n",
       "    </tr>\n",
       "    <tr>\n",
       "      <th>4</th>\n",
       "      <td>UEFA European Under-21 Championship Qualifying</td>\n",
       "      <td>2013-10-15</td>\n",
       "      <td>Germany U21</td>\n",
       "      <td>Faroe U21</td>\n",
       "      <td>3:2</td>\n",
       "      <td>not in squad</td>\n",
       "      <td>NaN</td>\n",
       "      <td>NaN</td>\n",
       "      <td>NaN</td>\n",
       "      <td>NaN</td>\n",
       "      <td>...</td>\n",
       "      <td>NaN</td>\n",
       "      <td>NaN</td>\n",
       "      <td>1391587</td>\n",
       "      <td>7161</td>\n",
       "      <td>3817</td>\n",
       "      <td>2016-01-01</td>\n",
       "      <td>not in squad</td>\n",
       "      <td>Germany U21</td>\n",
       "      <td>3</td>\n",
       "      <td>2</td>\n",
       "    </tr>\n",
       "    <tr>\n",
       "      <th>...</th>\n",
       "      <td>...</td>\n",
       "      <td>...</td>\n",
       "      <td>...</td>\n",
       "      <td>...</td>\n",
       "      <td>...</td>\n",
       "      <td>...</td>\n",
       "      <td>...</td>\n",
       "      <td>...</td>\n",
       "      <td>...</td>\n",
       "      <td>...</td>\n",
       "      <td>...</td>\n",
       "      <td>...</td>\n",
       "      <td>...</td>\n",
       "      <td>...</td>\n",
       "      <td>...</td>\n",
       "      <td>...</td>\n",
       "      <td>...</td>\n",
       "      <td>...</td>\n",
       "      <td>...</td>\n",
       "      <td>...</td>\n",
       "      <td>...</td>\n",
       "    </tr>\n",
       "    <tr>\n",
       "      <th>256314</th>\n",
       "      <td>UEFA Nations League B</td>\n",
       "      <td>2020-09-04</td>\n",
       "      <td>Scotland</td>\n",
       "      <td>Israel</td>\n",
       "      <td>1:1</td>\n",
       "      <td>LB</td>\n",
       "      <td></td>\n",
       "      <td></td>\n",
       "      <td></td>\n",
       "      <td></td>\n",
       "      <td>...</td>\n",
       "      <td></td>\n",
       "      <td>90'</td>\n",
       "      <td>3104424</td>\n",
       "      <td>60761</td>\n",
       "      <td>5547</td>\n",
       "      <td>2020-10-16</td>\n",
       "      <td>Position</td>\n",
       "      <td>Israel</td>\n",
       "      <td>1</td>\n",
       "      <td>1</td>\n",
       "    </tr>\n",
       "    <tr>\n",
       "      <th>256315</th>\n",
       "      <td>UEFA Nations League B</td>\n",
       "      <td>2020-09-07</td>\n",
       "      <td>Israel</td>\n",
       "      <td>Slovakia</td>\n",
       "      <td>1:1</td>\n",
       "      <td>LB</td>\n",
       "      <td></td>\n",
       "      <td></td>\n",
       "      <td></td>\n",
       "      <td></td>\n",
       "      <td>...</td>\n",
       "      <td>71'</td>\n",
       "      <td>71'</td>\n",
       "      <td>3104424</td>\n",
       "      <td>60761</td>\n",
       "      <td>5547</td>\n",
       "      <td>2020-10-16</td>\n",
       "      <td>Position</td>\n",
       "      <td>Israel</td>\n",
       "      <td>1</td>\n",
       "      <td>1</td>\n",
       "    </tr>\n",
       "    <tr>\n",
       "      <th>256316</th>\n",
       "      <td>European Qualifiers Play-offs</td>\n",
       "      <td>2020-10-08</td>\n",
       "      <td>Scotland</td>\n",
       "      <td>Israel</td>\n",
       "      <td>5:3  on pens</td>\n",
       "      <td>Corona virus</td>\n",
       "      <td>NaN</td>\n",
       "      <td>NaN</td>\n",
       "      <td>NaN</td>\n",
       "      <td>NaN</td>\n",
       "      <td>...</td>\n",
       "      <td>NaN</td>\n",
       "      <td>NaN</td>\n",
       "      <td>3104424</td>\n",
       "      <td>60761</td>\n",
       "      <td>5547</td>\n",
       "      <td>2020-10-16</td>\n",
       "      <td>Injury</td>\n",
       "      <td>Israel</td>\n",
       "      <td>5</td>\n",
       "      <td>3</td>\n",
       "    </tr>\n",
       "    <tr>\n",
       "      <th>256317</th>\n",
       "      <td>UEFA Nations League B</td>\n",
       "      <td>2020-10-11</td>\n",
       "      <td>Israel</td>\n",
       "      <td>Czech Republic</td>\n",
       "      <td>1:2</td>\n",
       "      <td>Corona virus</td>\n",
       "      <td>NaN</td>\n",
       "      <td>NaN</td>\n",
       "      <td>NaN</td>\n",
       "      <td>NaN</td>\n",
       "      <td>...</td>\n",
       "      <td>NaN</td>\n",
       "      <td>NaN</td>\n",
       "      <td>3104424</td>\n",
       "      <td>60761</td>\n",
       "      <td>5547</td>\n",
       "      <td>2020-10-16</td>\n",
       "      <td>Injury</td>\n",
       "      <td>Israel</td>\n",
       "      <td>1</td>\n",
       "      <td>2</td>\n",
       "    </tr>\n",
       "    <tr>\n",
       "      <th>256318</th>\n",
       "      <td>UEFA Nations League B</td>\n",
       "      <td>2020-10-14</td>\n",
       "      <td>Slovakia</td>\n",
       "      <td>Israel</td>\n",
       "      <td>2:3</td>\n",
       "      <td>Corona virus</td>\n",
       "      <td>NaN</td>\n",
       "      <td>NaN</td>\n",
       "      <td>NaN</td>\n",
       "      <td>NaN</td>\n",
       "      <td>...</td>\n",
       "      <td>NaN</td>\n",
       "      <td>NaN</td>\n",
       "      <td>3104424</td>\n",
       "      <td>60761</td>\n",
       "      <td>5547</td>\n",
       "      <td>2020-10-16</td>\n",
       "      <td>Injury</td>\n",
       "      <td>Israel</td>\n",
       "      <td>2</td>\n",
       "      <td>3</td>\n",
       "    </tr>\n",
       "  </tbody>\n",
       "</table>\n",
       "<p>242872 rows × 23 columns</p>\n",
       "</div>"
      ],
      "text/plain": [
       "                                           competition match_date  \\\n",
       "0                             International Friendlies 2013-08-13   \n",
       "1       UEFA European Under-21 Championship Qualifying 2013-09-06   \n",
       "2       UEFA European Under-21 Championship Qualifying 2013-09-09   \n",
       "3       UEFA European Under-21 Championship Qualifying 2013-10-11   \n",
       "4       UEFA European Under-21 Championship Qualifying 2013-10-15   \n",
       "...                                                ...        ...   \n",
       "256314                           UEFA Nations League B 2020-09-04   \n",
       "256315                           UEFA Nations League B 2020-09-07   \n",
       "256316                   European Qualifiers Play-offs 2020-10-08   \n",
       "256317                           UEFA Nations League B 2020-10-11   \n",
       "256318                           UEFA Nations League B 2020-10-14   \n",
       "\n",
       "          home_team       away_team        result      position goals assists  \\\n",
       "0       Germany U21      France U21           0:0            RW                 \n",
       "1         Faroe U21     Germany U21           0:3            RW     1       1   \n",
       "2       Ireland U21     Germany U21           0:4            RW                 \n",
       "3       Germany U21  Montenegro U21           2:0    Tendonitis   NaN     NaN   \n",
       "4       Germany U21       Faroe U21           3:2  not in squad   NaN     NaN   \n",
       "...             ...             ...           ...           ...   ...     ...   \n",
       "256314     Scotland          Israel           1:1            LB                 \n",
       "256315       Israel        Slovakia           1:1            LB                 \n",
       "256316     Scotland          Israel  5:3  on pens  Corona virus   NaN     NaN   \n",
       "256317       Israel  Czech Republic           1:2  Corona virus   NaN     NaN   \n",
       "256318     Slovakia          Israel           2:3  Corona virus   NaN     NaN   \n",
       "\n",
       "       own_goals yellow_card  ... substitutions_off minutes_played  \\\n",
       "0                             ...                              30'   \n",
       "1                             ...                              45'   \n",
       "2                             ...               46'            45'   \n",
       "3            NaN         NaN  ...               NaN            NaN   \n",
       "4            NaN         NaN  ...               NaN            NaN   \n",
       "...          ...         ...  ...               ...            ...   \n",
       "256314                        ...                              90'   \n",
       "256315                        ...               71'            71'   \n",
       "256316       NaN         NaN  ...               NaN            NaN   \n",
       "256317       NaN         NaN  ...               NaN            NaN   \n",
       "256318       NaN         NaN  ...               NaN            NaN   \n",
       "\n",
       "       Transfer_id     id verein_id Transfer_Date        Excuse         Team  \\\n",
       "0          1391587   7161      3817    2016-01-01      Position  Germany U21   \n",
       "1          1391587   7161      3817    2016-01-01      Position  Germany U21   \n",
       "2          1391587   7161      3817    2016-01-01      Position  Germany U21   \n",
       "3          1391587   7161      3817    2016-01-01        Injury  Germany U21   \n",
       "4          1391587   7161      3817    2016-01-01  not in squad  Germany U21   \n",
       "...            ...    ...       ...           ...           ...          ...   \n",
       "256314     3104424  60761      5547    2020-10-16      Position       Israel   \n",
       "256315     3104424  60761      5547    2020-10-16      Position       Israel   \n",
       "256316     3104424  60761      5547    2020-10-16        Injury       Israel   \n",
       "256317     3104424  60761      5547    2020-10-16        Injury       Israel   \n",
       "256318     3104424  60761      5547    2020-10-16        Injury       Israel   \n",
       "\n",
       "       Home_Goals Away_Goals  \n",
       "0               0          0  \n",
       "1               0          3  \n",
       "2               0          4  \n",
       "3               2          0  \n",
       "4               3          2  \n",
       "...           ...        ...  \n",
       "256314          1          1  \n",
       "256315          1          1  \n",
       "256316          5          3  \n",
       "256317          1          2  \n",
       "256318          2          3  \n",
       "\n",
       "[242872 rows x 23 columns]"
      ]
     },
     "execution_count": 16,
     "metadata": {},
     "output_type": "execute_result"
    }
   ],
   "source": [
    "stats_df"
   ]
  },
  {
   "cell_type": "code",
   "execution_count": 17,
   "metadata": {
    "ExecuteTime": {
     "end_time": "2020-11-25T17:28:44.912361Z",
     "start_time": "2020-11-25T17:28:11.992085Z"
    },
    "run_control": {
     "marked": false
    }
   },
   "outputs": [],
   "source": [
    "conditions = [(stats_df['home_team'] == stats_df['Team'])&(stats_df['Home_Goals']>stats_df['Away_Goals']),\n",
    "              ((stats_df['competition'].isin(['U20 Elite League','U17-Europameisterschaft 2013'])) & ((stats_df.apply(lambda x: x.Team in x.home_team, axis=1))))&(stats_df['Home_Goals']>stats_df['Away_Goals']),\n",
    "             (stats_df['home_team'] == 'Macedonia')&(stats_df['verein_id'] =='5148')&(stats_df['Home_Goals']>stats_df['Away_Goals']),\n",
    "              \n",
    "              \n",
    "              (stats_df['home_team'] == stats_df['Team'])&(stats_df['Home_Goals']==stats_df['Away_Goals']),\n",
    "              ((stats_df['competition'].isin(['U20 Elite League','U17-Europameisterschaft 2013'])) & ((stats_df.apply(lambda x: x.Team in x.home_team, axis=1))))&(stats_df['Home_Goals']==stats_df['Away_Goals']),\n",
    "             (stats_df['home_team'] == 'Macedonia')&(stats_df['verein_id'] =='5148')&(stats_df['Home_Goals']==stats_df['Away_Goals']),\n",
    "\n",
    "              \n",
    "              \n",
    "              \n",
    "             (stats_df['home_team'] == stats_df['Team'])&(stats_df['Home_Goals']<stats_df['Away_Goals']),\n",
    "             ((stats_df['competition'].isin(['U20 Elite League','U17-Europameisterschaft 2013'])) & ((stats_df.apply(lambda x: x.Team in x.home_team, axis=1))))&(stats_df['Home_Goals']<stats_df['Away_Goals']),\n",
    "             (stats_df['home_team'] == 'Macedonia')&(stats_df['verein_id'] =='5148')&(stats_df['Home_Goals']<stats_df['Away_Goals']),\n",
    " \n",
    "              \n",
    "              \n",
    "              \n",
    "             (stats_df['away_team'] == stats_df['Team'])&(stats_df['Away_Goals']>stats_df['Home_Goals']),\n",
    "              ((stats_df['competition'].isin(['U20 Elite League','U17-Europameisterschaft 2013'])) & ((stats_df.apply(lambda x: x.Team in x.away_team, axis=1))))&(stats_df['Away_Goals']>stats_df['Home_Goals']),\n",
    "             (stats_df['away_team'] == 'Macedonia')&(stats_df['verein_id'] =='5148')&(stats_df['Away_Goals']>stats_df['Home_Goals']),\n",
    "                            \n",
    "              \n",
    "              \n",
    "              \n",
    "              \n",
    "             (stats_df['away_team'] == stats_df['Team'])&(stats_df['Away_Goals']==stats_df['Home_Goals']),\n",
    "              ((stats_df['competition'].isin(['U20 Elite League','U17-Europameisterschaft 2013'])) & ((stats_df.apply(lambda x: x.Team in x.away_team, axis=1))))&(stats_df['Away_Goals']==stats_df['Home_Goals']),\n",
    "             (stats_df['away_team'] == 'Macedonia')&(stats_df['verein_id'] =='5148')&(stats_df['Away_Goals']==stats_df['Home_Goals']),\n",
    "                         \n",
    "              \n",
    "              \n",
    "              \n",
    "             (stats_df['away_team'] == stats_df['Team'])&(stats_df['Away_Goals']<stats_df['Home_Goals']),            \n",
    "              ((stats_df['competition'].isin(['U20 Elite League','U17-Europameisterschaft 2013'])) & ((stats_df.apply(lambda x: x.Team in x.away_team, axis=1))))&(stats_df['Away_Goals']<stats_df['Home_Goals']),\n",
    "             (stats_df['away_team'] == 'Macedonia')&(stats_df['verein_id'] =='5148')&(stats_df['Away_Goals']<stats_df['Home_Goals'])]\n",
    "outputs = ['win','win','win','draw','draw','draw','lose','lose','lose','win','win','win','draw','draw','draw','lose','lose','lose']\n",
    "stats_df['Win_Draw_Lose'] = np.select(conditions, outputs)"
   ]
  },
  {
   "cell_type": "code",
   "execution_count": 18,
   "metadata": {
    "ExecuteTime": {
     "end_time": "2020-11-25T17:28:45.337664Z",
     "start_time": "2020-11-25T17:28:44.914359Z"
    }
   },
   "outputs": [],
   "source": [
    "#transfer id içerisinde gelen maç sayısı\n",
    "stats_df.sort_values(by=['Transfer_id','match_date'],ascending=False, inplace=True)\n",
    "stats_df['match_count'] = stats_df.groupby('Transfer_id').cumcount()"
   ]
  },
  {
   "cell_type": "code",
   "execution_count": 19,
   "metadata": {
    "ExecuteTime": {
     "end_time": "2020-11-25T17:28:46.525079Z",
     "start_time": "2020-11-25T17:28:45.339661Z"
    }
   },
   "outputs": [],
   "source": [
    "stats_df['minutes_played'] = pd.to_numeric(stats_df['minutes_played'].str.replace('\\'',''),  errors='coerce')\n",
    "stats_df['substitutions_on'] = pd.to_numeric(stats_df['substitutions_on'].str.replace('\\'',''),  errors='coerce')\n",
    "stats_df['substitutions_off'] = pd.to_numeric(stats_df['substitutions_off'].str.replace('\\'',''),  errors='coerce')\n",
    "stats_df['goals'] = pd.to_numeric(stats_df['goals'], errors='coerce')\n",
    "stats_df['assists'] = pd.to_numeric(stats_df['assists'], errors='coerce')\n",
    "stats_df['own_goals'] = pd.to_numeric(stats_df['own_goals'], errors='coerce')\n",
    "stats_df['yellow_card'] = pd.to_numeric(stats_df['yellow_card'].str.replace('\\'',''), errors='coerce')\n",
    "stats_df['second_yellow_card'] = pd.to_numeric(stats_df['second_yellow_card'].str.replace('\\'',''), errors='coerce')\n",
    "stats_df['red_card'] = pd.to_numeric(stats_df['red_card'].str.replace('\\'',''), errors='coerce')\n",
    "stats_df['Home_Goals'] = pd.to_numeric(stats_df['Home_Goals'], errors='coerce')\n",
    "stats_df['Away_Goals'] = pd.to_numeric(stats_df['Away_Goals'], errors='coerce')"
   ]
  },
  {
   "cell_type": "code",
   "execution_count": 20,
   "metadata": {
    "ExecuteTime": {
     "end_time": "2020-11-25T17:28:46.699747Z",
     "start_time": "2020-11-25T17:28:46.526994Z"
    }
   },
   "outputs": [],
   "source": [
    "conditions = [stats_df['yellow_card']>=0]\n",
    "output = [1]\n",
    "stats_df['yellow_card_flag'] = np.select(conditions, output, default=0)"
   ]
  },
  {
   "cell_type": "code",
   "execution_count": 21,
   "metadata": {
    "ExecuteTime": {
     "end_time": "2020-11-25T17:28:46.715736Z",
     "start_time": "2020-11-25T17:28:46.701592Z"
    }
   },
   "outputs": [],
   "source": [
    "conditions = [stats_df['second_yellow_card']>=0]\n",
    "output = [1]\n",
    "stats_df['second_yellow_card_flag'] = np.select(conditions, output, default=0)"
   ]
  },
  {
   "cell_type": "code",
   "execution_count": 22,
   "metadata": {
    "ExecuteTime": {
     "end_time": "2020-11-25T17:28:46.731737Z",
     "start_time": "2020-11-25T17:28:46.718727Z"
    }
   },
   "outputs": [],
   "source": [
    "conditions = [stats_df['red_card']>=0]\n",
    "output = [1]\n",
    "stats_df['red_card_flag'] = np.select(conditions, output, default=0)"
   ]
  },
  {
   "cell_type": "code",
   "execution_count": 23,
   "metadata": {
    "ExecuteTime": {
     "end_time": "2020-11-25T17:28:46.747812Z",
     "start_time": "2020-11-25T17:28:46.737718Z"
    }
   },
   "outputs": [],
   "source": [
    "conditions = [stats_df['minutes_played']>=0]\n",
    "output = [1]\n",
    "stats_df['matches_played_flag'] = np.select(conditions, output, default=0)"
   ]
  },
  {
   "cell_type": "code",
   "execution_count": 24,
   "metadata": {
    "ExecuteTime": {
     "end_time": "2020-11-25T17:28:46.779846Z",
     "start_time": "2020-11-25T17:28:46.750788Z"
    }
   },
   "outputs": [],
   "source": [
    "conditions = [(stats_df['substitutions_on'].isna())&(stats_df['minutes_played']>0)]\n",
    "output = [1]\n",
    "stats_df['starting_lineup'] = np.select(conditions, output, default=0)\n"
   ]
  },
  {
   "cell_type": "code",
   "execution_count": 25,
   "metadata": {
    "ExecuteTime": {
     "end_time": "2020-11-25T17:28:46.795619Z",
     "start_time": "2020-11-25T17:28:46.782842Z"
    }
   },
   "outputs": [],
   "source": [
    "conditions = [stats_df['substitutions_off']>0]\n",
    "output = [1]\n",
    "stats_df['substitution_off_flag'] = np.select(conditions, output, default=0)"
   ]
  },
  {
   "cell_type": "code",
   "execution_count": 26,
   "metadata": {
    "ExecuteTime": {
     "end_time": "2020-11-25T17:28:46.826848Z",
     "start_time": "2020-11-25T17:28:46.797616Z"
    }
   },
   "outputs": [
    {
     "data": {
      "text/plain": [
       "6534"
      ]
     },
     "execution_count": 26,
     "metadata": {},
     "output_type": "execute_result"
    }
   ],
   "source": [
    "len(stats_df['Transfer_id'].unique())"
   ]
  },
  {
   "cell_type": "code",
   "execution_count": 27,
   "metadata": {
    "ExecuteTime": {
     "end_time": "2020-11-25T17:28:47.095162Z",
     "start_time": "2020-11-25T17:28:46.827847Z"
    }
   },
   "outputs": [
    {
     "data": {
      "text/html": [
       "<div>\n",
       "<style scoped>\n",
       "    .dataframe tbody tr th:only-of-type {\n",
       "        vertical-align: middle;\n",
       "    }\n",
       "\n",
       "    .dataframe tbody tr th {\n",
       "        vertical-align: top;\n",
       "    }\n",
       "\n",
       "    .dataframe thead th {\n",
       "        text-align: right;\n",
       "    }\n",
       "</style>\n",
       "<table border=\"1\" class=\"dataframe\">\n",
       "  <thead>\n",
       "    <tr style=\"text-align: right;\">\n",
       "      <th></th>\n",
       "      <th>competition</th>\n",
       "      <th>match_date</th>\n",
       "      <th>home_team</th>\n",
       "      <th>away_team</th>\n",
       "      <th>result</th>\n",
       "      <th>position</th>\n",
       "      <th>goals</th>\n",
       "      <th>assists</th>\n",
       "      <th>own_goals</th>\n",
       "      <th>yellow_card</th>\n",
       "      <th>...</th>\n",
       "      <th>Home_Goals</th>\n",
       "      <th>Away_Goals</th>\n",
       "      <th>Win_Draw_Lose</th>\n",
       "      <th>match_count</th>\n",
       "      <th>yellow_card_flag</th>\n",
       "      <th>second_yellow_card_flag</th>\n",
       "      <th>red_card_flag</th>\n",
       "      <th>matches_played_flag</th>\n",
       "      <th>starting_lineup</th>\n",
       "      <th>substitution_off_flag</th>\n",
       "    </tr>\n",
       "  </thead>\n",
       "  <tbody>\n",
       "    <tr>\n",
       "      <th>256192</th>\n",
       "      <td>UEFA Nations League B</td>\n",
       "      <td>2020-10-14</td>\n",
       "      <td>Finland</td>\n",
       "      <td>Ireland</td>\n",
       "      <td>1:0</td>\n",
       "      <td>on the bench</td>\n",
       "      <td>NaN</td>\n",
       "      <td>NaN</td>\n",
       "      <td>NaN</td>\n",
       "      <td>NaN</td>\n",
       "      <td>...</td>\n",
       "      <td>1</td>\n",
       "      <td>0</td>\n",
       "      <td>lose</td>\n",
       "      <td>0</td>\n",
       "      <td>0</td>\n",
       "      <td>0</td>\n",
       "      <td>0</td>\n",
       "      <td>0</td>\n",
       "      <td>0</td>\n",
       "      <td>0</td>\n",
       "    </tr>\n",
       "    <tr>\n",
       "      <th>256211</th>\n",
       "      <td>UEFA European Under-21 Championship Qualifying</td>\n",
       "      <td>2018-09-11</td>\n",
       "      <td>Ireland U21</td>\n",
       "      <td>Germany U21</td>\n",
       "      <td>0:6</td>\n",
       "      <td>RW</td>\n",
       "      <td>NaN</td>\n",
       "      <td>NaN</td>\n",
       "      <td>NaN</td>\n",
       "      <td>NaN</td>\n",
       "      <td>...</td>\n",
       "      <td>0</td>\n",
       "      <td>6</td>\n",
       "      <td>lose</td>\n",
       "      <td>1</td>\n",
       "      <td>0</td>\n",
       "      <td>0</td>\n",
       "      <td>0</td>\n",
       "      <td>1</td>\n",
       "      <td>1</td>\n",
       "      <td>1</td>\n",
       "    </tr>\n",
       "    <tr>\n",
       "      <th>256209</th>\n",
       "      <td>UEFA European Under-21 Championship Qualifying</td>\n",
       "      <td>2018-09-07</td>\n",
       "      <td>Kosovo U21</td>\n",
       "      <td>Ireland U21</td>\n",
       "      <td>1:1</td>\n",
       "      <td>LW</td>\n",
       "      <td>NaN</td>\n",
       "      <td>NaN</td>\n",
       "      <td>NaN</td>\n",
       "      <td>NaN</td>\n",
       "      <td>...</td>\n",
       "      <td>1</td>\n",
       "      <td>1</td>\n",
       "      <td>draw</td>\n",
       "      <td>2</td>\n",
       "      <td>0</td>\n",
       "      <td>0</td>\n",
       "      <td>0</td>\n",
       "      <td>1</td>\n",
       "      <td>1</td>\n",
       "      <td>1</td>\n",
       "    </tr>\n",
       "    <tr>\n",
       "      <th>256207</th>\n",
       "      <td>UEFA European Under-21 Championship Qualifying</td>\n",
       "      <td>2018-03-27</td>\n",
       "      <td>Ireland U21</td>\n",
       "      <td>Azerbaijan U21</td>\n",
       "      <td>1:0</td>\n",
       "      <td>AM</td>\n",
       "      <td>NaN</td>\n",
       "      <td>NaN</td>\n",
       "      <td>NaN</td>\n",
       "      <td>74.0</td>\n",
       "      <td>...</td>\n",
       "      <td>1</td>\n",
       "      <td>0</td>\n",
       "      <td>win</td>\n",
       "      <td>3</td>\n",
       "      <td>1</td>\n",
       "      <td>0</td>\n",
       "      <td>0</td>\n",
       "      <td>1</td>\n",
       "      <td>1</td>\n",
       "      <td>0</td>\n",
       "    </tr>\n",
       "    <tr>\n",
       "      <th>256205</th>\n",
       "      <td>International Friendlies</td>\n",
       "      <td>2018-03-22</td>\n",
       "      <td>Ireland U21</td>\n",
       "      <td>Iceland U21</td>\n",
       "      <td>3:1</td>\n",
       "      <td>AM</td>\n",
       "      <td>1.0</td>\n",
       "      <td>NaN</td>\n",
       "      <td>NaN</td>\n",
       "      <td>NaN</td>\n",
       "      <td>...</td>\n",
       "      <td>3</td>\n",
       "      <td>1</td>\n",
       "      <td>win</td>\n",
       "      <td>4</td>\n",
       "      <td>0</td>\n",
       "      <td>0</td>\n",
       "      <td>0</td>\n",
       "      <td>1</td>\n",
       "      <td>1</td>\n",
       "      <td>0</td>\n",
       "    </tr>\n",
       "    <tr>\n",
       "      <th>...</th>\n",
       "      <td>...</td>\n",
       "      <td>...</td>\n",
       "      <td>...</td>\n",
       "      <td>...</td>\n",
       "      <td>...</td>\n",
       "      <td>...</td>\n",
       "      <td>...</td>\n",
       "      <td>...</td>\n",
       "      <td>...</td>\n",
       "      <td>...</td>\n",
       "      <td>...</td>\n",
       "      <td>...</td>\n",
       "      <td>...</td>\n",
       "      <td>...</td>\n",
       "      <td>...</td>\n",
       "      <td>...</td>\n",
       "      <td>...</td>\n",
       "      <td>...</td>\n",
       "      <td>...</td>\n",
       "      <td>...</td>\n",
       "      <td>...</td>\n",
       "    </tr>\n",
       "    <tr>\n",
       "      <th>14765</th>\n",
       "      <td>International Friendlies</td>\n",
       "      <td>2014-10-14</td>\n",
       "      <td>Brazil</td>\n",
       "      <td>Japan</td>\n",
       "      <td>4:0</td>\n",
       "      <td>on the bench</td>\n",
       "      <td>NaN</td>\n",
       "      <td>NaN</td>\n",
       "      <td>NaN</td>\n",
       "      <td>NaN</td>\n",
       "      <td>...</td>\n",
       "      <td>4</td>\n",
       "      <td>0</td>\n",
       "      <td>win</td>\n",
       "      <td>0</td>\n",
       "      <td>0</td>\n",
       "      <td>0</td>\n",
       "      <td>0</td>\n",
       "      <td>0</td>\n",
       "      <td>0</td>\n",
       "      <td>0</td>\n",
       "    </tr>\n",
       "    <tr>\n",
       "      <th>14764</th>\n",
       "      <td>International Friendlies</td>\n",
       "      <td>2014-10-11</td>\n",
       "      <td>Brazil</td>\n",
       "      <td>Argentina</td>\n",
       "      <td>2:0</td>\n",
       "      <td>on the bench</td>\n",
       "      <td>NaN</td>\n",
       "      <td>NaN</td>\n",
       "      <td>NaN</td>\n",
       "      <td>NaN</td>\n",
       "      <td>...</td>\n",
       "      <td>2</td>\n",
       "      <td>0</td>\n",
       "      <td>win</td>\n",
       "      <td>1</td>\n",
       "      <td>0</td>\n",
       "      <td>0</td>\n",
       "      <td>0</td>\n",
       "      <td>0</td>\n",
       "      <td>0</td>\n",
       "      <td>0</td>\n",
       "    </tr>\n",
       "    <tr>\n",
       "      <th>14763</th>\n",
       "      <td>U17-Weltmeisterschaft 2009</td>\n",
       "      <td>2009-10-30</td>\n",
       "      <td>Switzerland U17</td>\n",
       "      <td>Brazil U17</td>\n",
       "      <td>1:0</td>\n",
       "      <td>on the bench</td>\n",
       "      <td>NaN</td>\n",
       "      <td>NaN</td>\n",
       "      <td>NaN</td>\n",
       "      <td>NaN</td>\n",
       "      <td>...</td>\n",
       "      <td>1</td>\n",
       "      <td>0</td>\n",
       "      <td>lose</td>\n",
       "      <td>2</td>\n",
       "      <td>0</td>\n",
       "      <td>0</td>\n",
       "      <td>0</td>\n",
       "      <td>0</td>\n",
       "      <td>0</td>\n",
       "      <td>0</td>\n",
       "    </tr>\n",
       "    <tr>\n",
       "      <th>14762</th>\n",
       "      <td>U17-Weltmeisterschaft 2009</td>\n",
       "      <td>2009-10-27</td>\n",
       "      <td>Brazil U17</td>\n",
       "      <td>Mexico U17</td>\n",
       "      <td>0:1</td>\n",
       "      <td>on the bench</td>\n",
       "      <td>NaN</td>\n",
       "      <td>NaN</td>\n",
       "      <td>NaN</td>\n",
       "      <td>NaN</td>\n",
       "      <td>...</td>\n",
       "      <td>0</td>\n",
       "      <td>1</td>\n",
       "      <td>lose</td>\n",
       "      <td>3</td>\n",
       "      <td>0</td>\n",
       "      <td>0</td>\n",
       "      <td>0</td>\n",
       "      <td>0</td>\n",
       "      <td>0</td>\n",
       "      <td>0</td>\n",
       "    </tr>\n",
       "    <tr>\n",
       "      <th>14761</th>\n",
       "      <td>U17-Weltmeisterschaft 2009</td>\n",
       "      <td>2009-10-24</td>\n",
       "      <td>Brazil U17</td>\n",
       "      <td>Japan U17</td>\n",
       "      <td>3:2</td>\n",
       "      <td>on the bench</td>\n",
       "      <td>NaN</td>\n",
       "      <td>NaN</td>\n",
       "      <td>NaN</td>\n",
       "      <td>NaN</td>\n",
       "      <td>...</td>\n",
       "      <td>3</td>\n",
       "      <td>2</td>\n",
       "      <td>win</td>\n",
       "      <td>4</td>\n",
       "      <td>0</td>\n",
       "      <td>0</td>\n",
       "      <td>0</td>\n",
       "      <td>0</td>\n",
       "      <td>0</td>\n",
       "      <td>0</td>\n",
       "    </tr>\n",
       "  </tbody>\n",
       "</table>\n",
       "<p>242872 rows × 31 columns</p>\n",
       "</div>"
      ],
      "text/plain": [
       "                                           competition match_date  \\\n",
       "256192                           UEFA Nations League B 2020-10-14   \n",
       "256211  UEFA European Under-21 Championship Qualifying 2018-09-11   \n",
       "256209  UEFA European Under-21 Championship Qualifying 2018-09-07   \n",
       "256207  UEFA European Under-21 Championship Qualifying 2018-03-27   \n",
       "256205                        International Friendlies 2018-03-22   \n",
       "...                                                ...        ...   \n",
       "14765                         International Friendlies 2014-10-14   \n",
       "14764                         International Friendlies 2014-10-11   \n",
       "14763                       U17-Weltmeisterschaft 2009 2009-10-30   \n",
       "14762                       U17-Weltmeisterschaft 2009 2009-10-27   \n",
       "14761                       U17-Weltmeisterschaft 2009 2009-10-24   \n",
       "\n",
       "              home_team       away_team result      position  goals  assists  \\\n",
       "256192          Finland         Ireland    1:0  on the bench    NaN      NaN   \n",
       "256211      Ireland U21     Germany U21    0:6            RW    NaN      NaN   \n",
       "256209       Kosovo U21     Ireland U21    1:1            LW    NaN      NaN   \n",
       "256207      Ireland U21  Azerbaijan U21    1:0            AM    NaN      NaN   \n",
       "256205      Ireland U21     Iceland U21    3:1            AM    1.0      NaN   \n",
       "...                 ...             ...    ...           ...    ...      ...   \n",
       "14765            Brazil           Japan    4:0  on the bench    NaN      NaN   \n",
       "14764            Brazil       Argentina    2:0  on the bench    NaN      NaN   \n",
       "14763   Switzerland U17      Brazil U17    1:0  on the bench    NaN      NaN   \n",
       "14762        Brazil U17      Mexico U17    0:1  on the bench    NaN      NaN   \n",
       "14761        Brazil U17       Japan U17    3:2  on the bench    NaN      NaN   \n",
       "\n",
       "        own_goals  yellow_card  ...  Home_Goals  Away_Goals  Win_Draw_Lose  \\\n",
       "256192        NaN          NaN  ...           1           0           lose   \n",
       "256211        NaN          NaN  ...           0           6           lose   \n",
       "256209        NaN          NaN  ...           1           1           draw   \n",
       "256207        NaN         74.0  ...           1           0            win   \n",
       "256205        NaN          NaN  ...           3           1            win   \n",
       "...           ...          ...  ...         ...         ...            ...   \n",
       "14765         NaN          NaN  ...           4           0            win   \n",
       "14764         NaN          NaN  ...           2           0            win   \n",
       "14763         NaN          NaN  ...           1           0           lose   \n",
       "14762         NaN          NaN  ...           0           1           lose   \n",
       "14761         NaN          NaN  ...           3           2            win   \n",
       "\n",
       "        match_count  yellow_card_flag second_yellow_card_flag red_card_flag  \\\n",
       "256192            0                 0                       0             0   \n",
       "256211            1                 0                       0             0   \n",
       "256209            2                 0                       0             0   \n",
       "256207            3                 1                       0             0   \n",
       "256205            4                 0                       0             0   \n",
       "...             ...               ...                     ...           ...   \n",
       "14765             0                 0                       0             0   \n",
       "14764             1                 0                       0             0   \n",
       "14763             2                 0                       0             0   \n",
       "14762             3                 0                       0             0   \n",
       "14761             4                 0                       0             0   \n",
       "\n",
       "       matches_played_flag starting_lineup substitution_off_flag  \n",
       "256192                   0               0                     0  \n",
       "256211                   1               1                     1  \n",
       "256209                   1               1                     1  \n",
       "256207                   1               1                     0  \n",
       "256205                   1               1                     0  \n",
       "...                    ...             ...                   ...  \n",
       "14765                    0               0                     0  \n",
       "14764                    0               0                     0  \n",
       "14763                    0               0                     0  \n",
       "14762                    0               0                     0  \n",
       "14761                    0               0                     0  \n",
       "\n",
       "[242872 rows x 31 columns]"
      ]
     },
     "execution_count": 27,
     "metadata": {},
     "output_type": "execute_result"
    }
   ],
   "source": [
    "stats_df"
   ]
  },
  {
   "cell_type": "code",
   "execution_count": 28,
   "metadata": {
    "ExecuteTime": {
     "end_time": "2020-11-25T17:28:47.142102Z",
     "start_time": "2020-11-25T17:28:47.097127Z"
    }
   },
   "outputs": [],
   "source": [
    "def stats_features(count):\n",
    "    unique_transfers = stats_df['Transfer_id'].unique()\n",
    "    base_df = pd.DataFrame(unique_transfers, columns =['Transfer_id']).set_index('Transfer_id')\n",
    "    lastx = stats_df[stats_df['match_count']<count]\n",
    "    match_count = lastx[['Transfer_id','match_date']].groupby('Transfer_id').count()\n",
    "    base_df = base_df.merge(match_count, on='Transfer_id', how = 'left')\n",
    "    rate_start_lineup = lastx[['Transfer_id','starting_lineup']].groupby('Transfer_id').sum()\n",
    "    base_df = base_df.merge(rate_start_lineup, left_index=True, right_index=True, how='left')\n",
    "    games_played = lastx[['Transfer_id','matches_played_flag']].groupby('Transfer_id').sum()\n",
    "    base_df = base_df.merge(games_played, left_index=True, right_index=True, how='left')\n",
    "    cols = ['Transfer_id','goals', 'assists', 'own_goals', 'yellow_card_flag',\n",
    "       'second_yellow_card_flag', 'red_card_flag', 'minutes_played','substitution_off_flag']\n",
    "    lastx_stats =lastx[cols].groupby('Transfer_id').aggregate({'goals':'sum', 'assists':'sum', 'own_goals':'sum',\\\n",
    "            'yellow_card_flag':'sum', 'second_yellow_card_flag':'sum','red_card_flag':'sum',\\\n",
    "            'minutes_played':'sum','substitution_off_flag':'sum'})\n",
    "    base_df = base_df.merge(lastx_stats, left_index=True, right_index=True, how='left')\n",
    "    base_df['match_played_rate'] = round(base_df['matches_played_flag'] / base_df['match_date'], 2)\n",
    "\n",
    "    \n",
    "    \n",
    "    \n",
    "    \n",
    "    \n",
    "    base_df['rate_subs_off'] = round(base_df['substitution_off_flag'] / base_df['starting_lineup'], 2)\n",
    "    conditions = [lastx['Win_Draw_Lose'] =='win',lastx['Win_Draw_Lose'] =='draw']\n",
    "    outputs = [3,1]\n",
    "    lastx['match_points'] = np.select(conditions, outputs, default=0)\n",
    "    total_points_played = lastx.loc[lastx['matches_played_flag']==1,['Transfer_id','match_points']].groupby('Transfer_id').sum().add_suffix('_played')\n",
    "    total_points_notplayed = lastx.loc[lastx['matches_played_flag']==0,['Transfer_id','match_points']].groupby('Transfer_id').sum().add_suffix('_notplayed')\n",
    "    base_df = base_df.merge(total_points_played, left_index = True, right_index=True, how='left')\n",
    "    base_df = base_df.merge(total_points_notplayed, left_index = True, right_index=True, how='left')\n",
    "    team_away_goals = lastx.loc[lastx['Team'] == lastx['away_team'],['Transfer_id','Away_Goals']].groupby('Transfer_id').sum().add_suffix('_team')\n",
    "    team_home_goals = lastx.loc[lastx['Team'] == lastx['home_team'],['Transfer_id','Home_Goals']].groupby('Transfer_id').sum().add_suffix('_team')\n",
    "    team_away_goals_played = lastx.loc[(lastx['Team'] == lastx['away_team'])&(lastx['matches_played_flag']==1),['Transfer_id','Away_Goals']].groupby('Transfer_id').sum().add_suffix('_team_played')\n",
    "    team_home_goals_played = lastx.loc[(lastx['Team'] == lastx['home_team'])&(lastx['matches_played_flag']==1),['Transfer_id','Home_Goals']].groupby('Transfer_id').sum().add_suffix('_team_played')  \n",
    "    base_df = base_df.merge(team_home_goals, left_index=True, right_index=True, how='left')\n",
    "    base_df = base_df.merge(team_away_goals, left_index=True, right_index=True, how='left')\n",
    "    base_df = base_df.merge(team_home_goals_played, left_index=True, right_index=True, how='left')\n",
    "    base_df = base_df.merge(team_away_goals_played, left_index=True, right_index=True, how='left')\n",
    "    base_df['total_goals_team'] = base_df['Home_Goals_team'] + base_df['Away_Goals_team']\n",
    "    base_df['total_goals_team_played'] = base_df['Home_Goals_team_played'] + base_df['Away_Goals_team_played']\n",
    "    team_away_conceded_goals = lastx.loc[lastx['Team'] == lastx['home_team'],['Transfer_id','Away_Goals']].groupby('Transfer_id').sum().add_suffix('_team_conceded')\n",
    "    team_home_conceded_goals = lastx.loc[lastx['Team'] == lastx['away_team'],['Transfer_id','Home_Goals']].groupby('Transfer_id').sum().add_suffix('_team_conceded')\n",
    "    team_away_conceded_goals_played = lastx.loc[(lastx['Team'] == lastx['home_team'])&(lastx['matches_played_flag']==1),['Transfer_id','Away_Goals']].groupby('Transfer_id').sum().add_suffix('_team_conceded_played')\n",
    "    team_home_conceded_goals_played = lastx.loc[(lastx['Team'] == lastx['away_team'])&(lastx['matches_played_flag']==1),['Transfer_id','Home_Goals']].groupby('Transfer_id').sum().add_suffix('_team_conceded_played')\n",
    "    base_df = base_df.merge(team_away_conceded_goals, left_index=True, right_index=True, how='left')\n",
    "    base_df = base_df.merge(team_home_conceded_goals, left_index=True, right_index=True, how='left')\n",
    "    base_df = base_df.merge(team_away_conceded_goals_played, left_index=True, right_index=True, how='left')\n",
    "    base_df = base_df.merge(team_home_conceded_goals_played, left_index=True, right_index=True, how='left')\n",
    "    base_df['total_goals_team_conceded'] = base_df['Home_Goals_team_conceded'] + base_df['Away_Goals_team_conceded']\n",
    "    base_df['total_goals_team_conceded_played'] = base_df['Home_Goals_team_conceded_played'] + base_df['Away_Goals_team_conceded_played']\n",
    "    \n",
    "\n",
    "    conditions = [((lastx['Team'] == lastx['home_team']) & (lastx['Away_Goals']==0)) , ((lastx['Team'] == lastx['away_team']) & (lastx['Home_Goals']==0)) ]\n",
    "    outputs = [1,1]\n",
    "    lastx['clean_sheet_flg'] = np.select(conditions, outputs, default=0)    \n",
    "    total_clean_sheets_played=lastx.loc[lastx['matches_played_flag']==1,['Transfer_id','clean_sheet_flg']].groupby('Transfer_id').sum().add_suffix('_played')\n",
    "    total_clean_sheets_not_played=lastx.loc[lastx['matches_played_flag']==0,['Transfer_id','clean_sheet_flg']].groupby('Transfer_id').sum().add_suffix('_notplayed')\n",
    "    base_df = base_df.merge(total_clean_sheets_played, left_index=True, right_index=True, how='left')\n",
    "    base_df = base_df.merge(total_clean_sheets_not_played, left_index=True, right_index=True, how='left')\n",
    "    \n",
    "    \n",
    "    #Played per game Features\n",
    "    base_df['lineup_rate'] = round(base_df['starting_lineup'] / base_df['matches_played_flag'], 2)\n",
    "    base_df['minutes_per_game'] = round(base_df['minutes_played'] / base_df['matches_played_flag'],2)\n",
    "    \n",
    "    base_df['goals_per_Game'] = round(base_df['goals'] / base_df['matches_played_flag'],2)\n",
    "    \n",
    "    base_df['assists_per_game'] = round(base_df['assists'] / base_df['matches_played_flag'],2)\n",
    "    \n",
    "    base_df['own_goals_per_game'] = round(base_df['own_goals'] / base_df['matches_played_flag'],2)\n",
    "    \n",
    "    base_df['yellow_cards_per_game'] = round(base_df['yellow_card_flag'] / base_df['matches_played_flag'],2)\n",
    "    \n",
    "    base_df['second_yellow_card_per_game'] = round(base_df['second_yellow_card_flag'] / base_df['matches_played_flag'],2)\n",
    "    \n",
    "    base_df['red_card_per_game'] = round(base_df['red_card_flag'] / base_df['matches_played_flag'],2)\n",
    "    \n",
    "    base_df['team_goals_per_game'] = round(base_df['total_goals_team_played'] / base_df['matches_played_flag'],2)\n",
    "    \n",
    "    base_df['points_per_game'] = round(base_df['match_points_played'] / base_df['matches_played_flag'],2)\n",
    "    \n",
    "    base_df['team_conceeded_goals_per_game'] = round(base_df['total_goals_team_conceded_played'] / base_df['matches_played_flag'],2)\n",
    "    \n",
    "    base_df['clean_sheet_per_game'] = round(base_df['clean_sheet_flg_played'] / base_df['matches_played_flag'],2)\n",
    "    \n",
    "    \n",
    "    #Not Played per game Features\n",
    "    base_df['team_goals_per_game_not_played'] = round((base_df['total_goals_team'] - base_df['total_goals_team_played'])/(base_df['match_date']-base_df['matches_played_flag']),2)\n",
    "    \n",
    "    base_df['clean_sheet_per_game_not_played'] = round(base_df['clean_sheet_flg_notplayed'] / (base_df['match_date']-base_df['matches_played_flag']),2)\n",
    "    \n",
    "    base_df['team_conceeded_goals_per_game_not_played'] = round((base_df['total_goals_team_conceded'] - base_df['total_goals_team_conceded_played'])/(base_df['match_date']-base_df['matches_played_flag']),2)\n",
    "    base_df['points_per_game_not_played'] = round(base_df['match_points_notplayed']/(base_df['match_date']-base_df['matches_played_flag']),2)\n",
    "    \n",
    "    #Coverage Features\n",
    "    base_df['minutes_played_coverage_played'] =round(base_df['minutes_played']/(90*base_df['matches_played_flag']),2)\n",
    "    base_df['minutes_played_coverage_all'] =round(base_df['minutes_played']/(90*base_df['match_date']),2)    \n",
    "    base_df['points_played_coverage'] = round(base_df['match_points_played'] / (3*base_df['matches_played_flag']),2)   \n",
    "    base_df['points_not_played_coverage'] = round(base_df['match_points_notplayed'] / (3*(base_df['match_date']-base_df['matches_played_flag'])),2)\n",
    "    \n",
    "    \n",
    "    #Injury/Suspenion/bench/not in squad rate\n",
    "    pos_count = lastx[['Transfer_id','Excuse','match_date']].groupby(['Transfer_id','Excuse']).count().reset_index()\n",
    "    pos_count_transpose = pd.pivot_table(pos_count, values = 'match_date', index=['Transfer_id'], columns = 'Excuse').reset_index()\n",
    "    pos_count_final = pos_count_transpose[['Transfer_id','Injury','Suspension','not in squad','on the bench']]\n",
    "    pos_count_final = pos_count_final.reset_index(drop=True).set_index('Transfer_id')\n",
    "    base_df = base_df.merge(pos_count_final, left_index=True, right_index=True,how='left')\n",
    "    \n",
    "    base_df['injury_rate'] = round(base_df['Injury']/base_df['match_date'],2)\n",
    "    \n",
    "    base_df['suspension_rate'] = round(base_df['Suspension']/base_df['match_date'],2)\n",
    "    \n",
    "    base_df['on_the_bench_rate'] = round(base_df['on the bench']/base_df['match_date'],2)\n",
    "    \n",
    "    base_df['not_in_squad_rate'] = round(base_df['not in squad']/base_df['match_date'],2)\n",
    "    \n",
    "    #Min_date/recency\n",
    "    transfer_date=lastx[['Transfer_id','Transfer_Date']].drop_duplicates().set_index('Transfer_id')\n",
    "    base_df = base_df.merge(transfer_date, left_index=True, right_index=True,how='left')\n",
    "    min_date=lastx[['Transfer_id','match_date']].groupby('Transfer_id').min().add_suffix('_min')\n",
    "    base_df = base_df.merge(min_date, left_index=True, right_index=True,how='left')\n",
    "    base_df['last_played_game_recency']=base_df['Transfer_Date']-base_df['match_date_min']\n",
    "    \n",
    "    \n",
    "    #drop unnecessary columns\n",
    "    \n",
    "    base_df.drop(['Transfer_Date', 'match_date_min','Away_Goals_team_conceded','Home_Goals_team_conceded', 'Away_Goals_team_conceded_played','Home_Goals_team_conceded_played','Home_Goals_team', 'Away_Goals_team','Home_Goals_team_played', 'Away_Goals_team_played'], axis=1, inplace=True)\n",
    "    base_df=base_df.add_suffix('_National_'+str(count))\n",
    "    return base_df"
   ]
  },
  {
   "cell_type": "code",
   "execution_count": 29,
   "metadata": {
    "ExecuteTime": {
     "end_time": "2020-11-25T17:28:48.142974Z",
     "start_time": "2020-11-25T17:28:47.144119Z"
    }
   },
   "outputs": [
    {
     "name": "stderr",
     "output_type": "stream",
     "text": [
      "<ipython-input-28-ca912d4c6450>:27: SettingWithCopyWarning: \n",
      "A value is trying to be set on a copy of a slice from a DataFrame.\n",
      "Try using .loc[row_indexer,col_indexer] = value instead\n",
      "\n",
      "See the caveats in the documentation: https://pandas.pydata.org/pandas-docs/stable/user_guide/indexing.html#returning-a-view-versus-a-copy\n",
      "  lastx['match_points'] = np.select(conditions, outputs, default=0)\n",
      "<ipython-input-28-ca912d4c6450>:56: SettingWithCopyWarning: \n",
      "A value is trying to be set on a copy of a slice from a DataFrame.\n",
      "Try using .loc[row_indexer,col_indexer] = value instead\n",
      "\n",
      "See the caveats in the documentation: https://pandas.pydata.org/pandas-docs/stable/user_guide/indexing.html#returning-a-view-versus-a-copy\n",
      "  lastx['clean_sheet_flg'] = np.select(conditions, outputs, default=0)\n"
     ]
    }
   ],
   "source": [
    "stats_features_30=stats_features(30)"
   ]
  },
  {
   "cell_type": "code",
   "execution_count": 30,
   "metadata": {
    "ExecuteTime": {
     "end_time": "2020-11-25T17:28:48.935286Z",
     "start_time": "2020-11-25T17:28:48.144011Z"
    }
   },
   "outputs": [
    {
     "name": "stderr",
     "output_type": "stream",
     "text": [
      "<ipython-input-28-ca912d4c6450>:27: SettingWithCopyWarning: \n",
      "A value is trying to be set on a copy of a slice from a DataFrame.\n",
      "Try using .loc[row_indexer,col_indexer] = value instead\n",
      "\n",
      "See the caveats in the documentation: https://pandas.pydata.org/pandas-docs/stable/user_guide/indexing.html#returning-a-view-versus-a-copy\n",
      "  lastx['match_points'] = np.select(conditions, outputs, default=0)\n",
      "<ipython-input-28-ca912d4c6450>:56: SettingWithCopyWarning: \n",
      "A value is trying to be set on a copy of a slice from a DataFrame.\n",
      "Try using .loc[row_indexer,col_indexer] = value instead\n",
      "\n",
      "See the caveats in the documentation: https://pandas.pydata.org/pandas-docs/stable/user_guide/indexing.html#returning-a-view-versus-a-copy\n",
      "  lastx['clean_sheet_flg'] = np.select(conditions, outputs, default=0)\n"
     ]
    }
   ],
   "source": [
    "stats_features_20=stats_features(20)"
   ]
  },
  {
   "cell_type": "code",
   "execution_count": 31,
   "metadata": {
    "ExecuteTime": {
     "end_time": "2020-11-25T17:28:49.531178Z",
     "start_time": "2020-11-25T17:28:48.937251Z"
    }
   },
   "outputs": [
    {
     "name": "stderr",
     "output_type": "stream",
     "text": [
      "<ipython-input-28-ca912d4c6450>:27: SettingWithCopyWarning: \n",
      "A value is trying to be set on a copy of a slice from a DataFrame.\n",
      "Try using .loc[row_indexer,col_indexer] = value instead\n",
      "\n",
      "See the caveats in the documentation: https://pandas.pydata.org/pandas-docs/stable/user_guide/indexing.html#returning-a-view-versus-a-copy\n",
      "  lastx['match_points'] = np.select(conditions, outputs, default=0)\n",
      "<ipython-input-28-ca912d4c6450>:56: SettingWithCopyWarning: \n",
      "A value is trying to be set on a copy of a slice from a DataFrame.\n",
      "Try using .loc[row_indexer,col_indexer] = value instead\n",
      "\n",
      "See the caveats in the documentation: https://pandas.pydata.org/pandas-docs/stable/user_guide/indexing.html#returning-a-view-versus-a-copy\n",
      "  lastx['clean_sheet_flg'] = np.select(conditions, outputs, default=0)\n"
     ]
    }
   ],
   "source": [
    "stats_features_10=stats_features(10)"
   ]
  },
  {
   "cell_type": "code",
   "execution_count": 32,
   "metadata": {
    "ExecuteTime": {
     "end_time": "2020-11-25T17:28:50.054757Z",
     "start_time": "2020-11-25T17:28:49.534137Z"
    }
   },
   "outputs": [
    {
     "name": "stderr",
     "output_type": "stream",
     "text": [
      "<ipython-input-28-ca912d4c6450>:27: SettingWithCopyWarning: \n",
      "A value is trying to be set on a copy of a slice from a DataFrame.\n",
      "Try using .loc[row_indexer,col_indexer] = value instead\n",
      "\n",
      "See the caveats in the documentation: https://pandas.pydata.org/pandas-docs/stable/user_guide/indexing.html#returning-a-view-versus-a-copy\n",
      "  lastx['match_points'] = np.select(conditions, outputs, default=0)\n",
      "<ipython-input-28-ca912d4c6450>:56: SettingWithCopyWarning: \n",
      "A value is trying to be set on a copy of a slice from a DataFrame.\n",
      "Try using .loc[row_indexer,col_indexer] = value instead\n",
      "\n",
      "See the caveats in the documentation: https://pandas.pydata.org/pandas-docs/stable/user_guide/indexing.html#returning-a-view-versus-a-copy\n",
      "  lastx['clean_sheet_flg'] = np.select(conditions, outputs, default=0)\n"
     ]
    }
   ],
   "source": [
    "stats_features_5=stats_features(5)"
   ]
  },
  {
   "cell_type": "code",
   "execution_count": 33,
   "metadata": {
    "ExecuteTime": {
     "end_time": "2020-11-25T17:28:50.148495Z",
     "start_time": "2020-11-25T17:28:50.057737Z"
    }
   },
   "outputs": [],
   "source": [
    "from functools import reduce\n",
    "data_frames = [stats_features_30,stats_features_20, stats_features_10, stats_features_5]\n",
    "df_merged = reduce(lambda  left,right: pd.merge(left,right,on=['Transfer_id'],\n",
    "                                            how='outer'), data_frames)"
   ]
  },
  {
   "cell_type": "code",
   "execution_count": 34,
   "metadata": {
    "ExecuteTime": {
     "end_time": "2020-11-25T17:28:50.180412Z",
     "start_time": "2020-11-25T17:28:50.150488Z"
    }
   },
   "outputs": [],
   "source": [
    "df_merged.to_pickle('./National_Stats_Features_All.pkl')"
   ]
  }
 ],
 "metadata": {
  "kernelspec": {
   "display_name": "Python 3",
   "language": "python",
   "name": "python3"
  },
  "language_info": {
   "codemirror_mode": {
    "name": "ipython",
    "version": 3
   },
   "file_extension": ".py",
   "mimetype": "text/x-python",
   "name": "python",
   "nbconvert_exporter": "python",
   "pygments_lexer": "ipython3",
   "version": "3.8.5"
  }
 },
 "nbformat": 4,
 "nbformat_minor": 4
}
